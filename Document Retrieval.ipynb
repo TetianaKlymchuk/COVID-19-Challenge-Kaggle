{
 "cells": [
  {
   "cell_type": "markdown",
   "metadata": {},
   "source": [
    "<h2>Ranking and Doc2Vec Analysis</h2>"
   ]
  },
  {
   "cell_type": "markdown",
   "metadata": {},
   "source": [
    "<hr>"
   ]
  },
  {
   "cell_type": "markdown",
   "metadata": {},
   "source": [
    "<h3> Load Data </h3>"
   ]
  },
  {
   "cell_type": "code",
   "execution_count": 4,
   "metadata": {},
   "outputs": [],
   "source": [
    "from ranking import Ranking\n",
    "import numpy as np\n",
    "import pandas as pd\n",
    "from doc2vec_embedding import Embedding_doc2vec\n",
    "import matplotlib.pyplot as plt"
   ]
  },
  {
   "cell_type": "markdown",
   "metadata": {},
   "source": [
    "Firstly, we load our dataset and initialize the `Ranking` and `Embedding_doc2vec` classes."
   ]
  },
  {
   "cell_type": "code",
   "execution_count": 5,
   "metadata": {},
   "outputs": [
    {
     "name": "stdout",
     "output_type": "stream",
     "text": [
      "Index(['paper_id', 'title', 'abstract', 'text', 'date', 'authors', 'url',\n",
      "       'after_dec', 'tag_disease_covid', 'tag_disease_sars',\n",
      "       'tag_disease_mers', 'tag_disease_corona',\n",
      "       'tag_design_generic_case_control', 'tag_design_retrospective_cohort',\n",
      "       'tag_design_cross_sectional_case_control',\n",
      "       'tag_design_matched_case_control', 'tag_design_prevalence_survey',\n",
      "       'tag_design_time_series_analysis', 'tag_design_systematic_review',\n",
      "       'tag_design_randomized_control', 'tag_design_pseudo_randomized_control',\n",
      "       'tag_design_case_study', 'tag_design_simulation'],\n",
      "      dtype='object')\n"
     ]
    }
   ],
   "source": [
    "df = pd.read_csv('Data/processed_data_v5.csv', sep=';')\n",
    "\n",
    "ranking = Ranking('texts')\n",
    "\n",
    "#m = Embedding_doc2vec(path='doc2vecmodel_stopwords.mod')\n",
    "#df_doc2vec = m.get_dataframe(df)\n",
    "print(df.columns)"
   ]
  },
  {
   "cell_type": "markdown",
   "metadata": {},
   "source": [
    "The input to our algorithm will we a string such as:"
   ]
  },
  {
   "cell_type": "code",
   "execution_count": 6,
   "metadata": {},
   "outputs": [],
   "source": [
    "med_dict  = pd.read_excel('Kaggle COVID-19 medical dictionary.xlsx', sheet_name=1)\n",
    "tasks  = med_dict[\"Unnamed: 0\"].unique()\n",
    "questions  = med_dict.Question.unique()\n",
    "subquestions = med_dict.Subquestion.unique()"
   ]
  },
  {
   "cell_type": "code",
   "execution_count": 65,
   "metadata": {},
   "outputs": [],
   "source": [
    "#query = 'Tools and studies to monitor phenotypic change and potential adaptation of the virus'\n",
    "query = subquestions[19]"
   ]
  },
  {
   "cell_type": "code",
   "execution_count": 8,
   "metadata": {
    "scrolled": true
   },
   "outputs": [
    {
     "name": "stdout",
     "output_type": "stream",
     "text": [
      "0 Range of incubation periods for humans: general population\n",
      "1 Range of incubation periods for humans: by age group\n",
      "2 Range of incubation periods for humans: by health status\n",
      "3 How long are individuals contagious, even after recovery?\n",
      "4 Prevalence of asymptomatic shedding: general population\n",
      "5 Prevalence of asymptomatic shedding: by age\n",
      "6 Prevalence of asymptomatic shedding: among health cadres\n",
      "7 Prevalence of asymptomatic shedding: in children\n",
      "8 Prevalence of asymptomatic shedding: among hospitalized patients with non-COVID dx's\n",
      "9 Prevalence of asymptomatic shedding: among outpatients \n",
      "10 Geographic variation in transmission by temperature and/or humidity\n",
      "11 Experimental variation in laboratory COVID-19 sample survival at different temperature/humidity conditions\n",
      "12 Time series analysis of COVID-19 w/data on change over time in temperature and/or humidity\n",
      "13 Coronovirus charge distribution\n",
      "14 Coronovirus adhesion to hydrophilic/phobic surfaces\n",
      "15 Coronovirus susceptibility to environmental cleaning agents\n",
      "16 Persistence and stability in nasal discharge\n",
      "17 Persistence and stability in sputum\n",
      "18 Persistence and stability in urine\n",
      "19 Persistence and stability in fecal matter\n",
      "20 Persistence and stability in blood\n",
      "21 Persistence and stability on aerosols\n",
      "22 Persistence and stability on droplets\n",
      "23 Persistence and stability on copper surfaces\n",
      "24 Persistence and stability on stainless steel surfaces\n",
      "25 Persistence and stability on plastic\n",
      "26 Persistence and stability on reprocessed single-use ventilators\n",
      "27 Virus behavior in host over time: stages of infection\n",
      "28 Virus behavior in host over time: interaction with immune system\n",
      "29 Virus behavior in host over time: timing of peak shedding\n",
      "30 Diagnostic guidelines for COVID-19\n",
      "31 Test specifications for various PCR products for testing human subjects for COVID-19\n",
      "32 Diagnostic guidelines for SARS-CoV-2\n",
      "33 Diagnostic guidelines for ARDS\n",
      "34 Differential diagnosis between ARDS and ventilator-associated pneumonia\n",
      "35 Diagnostic guidelines for MERS\n",
      "36 Diagnostic guidelines for H1N1 influenza\n",
      "37 What animal models are best analogies for humans with COVID-19 pneumonia?\n",
      "38 What animal models are best analogies for humans with COVID-19 transmission?\n",
      "39 What statistical models are useful for predicting outcomes of COVID-19 infection?\n",
      "40 What statistical models are useful for predicting COVID-19 transmission in humans?\n",
      "41 How can we measure changes in COVID-19's behavior in a human host as the virus evolves over time?\n",
      "42 What surveillance activities are underway to monitor changes in COVID-19's behavior in a human host as the virus evolves over time?\n",
      "43 What is the typical immune response in a healthy adult human exposed to COVID-19?\n",
      "44 How does an exposure to COVID-19 impact immunity to the virus in a healthy adult human?\n",
      "45 How does the immune response to COVID-19 vary by age group and health status in humans? \n",
      "46 What are the risk factors for an impaired immune response?\n",
      "47 How long is immunity sustained after exposure to COVID-19? How does this vary across age groups and risk factors for impaired immune response?\n",
      "48 Does COVID-19 exhibit antibody-dependent enhancement?\n",
      "49 How effective have various behavior change interventions to control the movement of the general population been at slowing the spread of COVID-19 in the community?\n",
      "50 How effective have various behavior change interventions to control the movement of patients in healthcare settings been at slowing the spread of COVID-19 within healthcare settings?\n",
      "51 How effective have various behavior change interventions to control the movement of healthcare workers been at slowing the spread of COVID-19 within healthcare facilities?\n",
      "52 How effective are different types of face masks for preventing COVID-19 transmission? What is the difference in effectiveness between actual practice and when used as directed?\n",
      "53 How effective are different types of gloves for preventing COVID-19 transmission? What is the difference in effectiveness between actual practice and when used as directed?\n",
      "54 What proportion of hospital surfaces test positive for COVID-19 in areas of the hospital known to have been used by COVID-19 positive patients? Which surfaces are these? \n",
      "55 What proportion of air vents and bathroom fixtures (toilet bowl, sink, doorknob) test positive for COVID-19 in rooms used by COVID-19 positive persons?\n",
      "56 What are the risk factors for COVID-19 acquisition in the general population (including asymptomatic carriage)? Do they vary by age group?\n",
      "57 What are the risk factors for COVID-19 ARDS?\n",
      "58 What are the risk factors for COVID-19 pneumonia?\n",
      "59 What are the risk factors for specific complications of COVID-19 ARDS and/or COVID-19 pneumonia?\n",
      "60 What are the risk factors for secondary hospital-acquired infections among COVID-19 patients admitted to critical care/intensive care?\n",
      "61 What are the risk factors for primary clinical outcomes among COVID-19 pneumonia / ARDS patients (e.g., hospitalization, discharge, death).\n",
      "62 What impact does smoking have on COVID-19 acquisition risk (including asymptomatic carriage)? Does it vary by age? Duration of smoking (cumulative pack-years)? Does it vary by substance smoked (tobacco, electric nicotine, cannabis, electric THC, snuff, etc.)?\n",
      "63 What impact does smoking have on COVID-19 ARDS risk? Does it vary by age? Duration of smoking (cumulative pack-years)? Does it vary by substance smoked (tobacco, electric nicotine, cannabis, electric THC, snuff, etc.)? \n",
      "64 What impact does smoking have on COVID-19 pneumonia risk? Does it vary by age? Duration of smoking (cumulative pack-years)? Does it vary by substance smoked (tobacco, electric nicotine, cannabis, electric THC, snuff, etc.)?\n",
      "65 What impact does smoking have on the risk of developing specific complications of COVID-19 ARDS and/or COVID-19 pneumonia? Does it vary by age? Duration of smoking (cumulative pack-years)? Does it vary by substance smoked (tobacco, electric nicotine, cannabis, electric THC, snuff, etc.)?\n",
      "66 What impact does smoking status have on risk of secondary hospital-acquired infections among COVID-19 patients admitted to critical care/intensive care? Does it vary by age? Duration of smoking (cumulative pack-years)? Does it vary by substance smoked (tobacco, electric nicotine, cannabis, electric THC, snuff, etc.)?\n",
      "67 What impact does smoking status have on primary clinical outcomes for COVID-19 pneumonia/ARDS (i.e., hospitalization, discharge, death)? Does it vary by age? Duration of smoking (cumulative pack-years)? Does it vary by substance smoked (tobacco, electric nicotine, cannabis, electric THC, snuff, etc.)?\n",
      "68 What impact does asthma diagnosis have on risk for COVID-19 acquisition in the general population (including asymptomatic carriage)? Do they vary by age group?\n",
      "69 What impact does asthma diagnosis have on risk for COVID-19 ARDS?\n",
      "70 What impact does asthma diagnosis have on risk for COVID-19 pneumonia?\n",
      "71 What impact does asthma diagnosis have on risk for complications of COVID-19 ARDS and/or COVID-19 pneumonia?\n",
      "72 What impact does asthma diagnosis have on risk for secondary hospital-acquired infections among COVID-19 patients admitted to critical care/intensive care?\n",
      "73 What impact does asthma diagnosis have on primary clinical outcomes for COVID-19 pneumonia/ARDS (i.e., hospitalization, discharge, death)?\n",
      "74 What impact does COPD diagnosis have on risk for COVID-19 acquisition in the general population (including asymptomatic carriage)? Do they vary by age group?\n",
      "75 What impact does COPD diagnosis have on risk for COVID-19 ARDS?\n",
      "76 What impact does COPD diagnosis have on risk for COVID-19 pneumonia?\n",
      "77 What impact does COPD diagnosis have on risk for complications of COVID-19 ARDS and/or COVID-19 pneumonia?\n",
      "78 What impact does COPD diagnosis have on risk for secondary hospital-acquired infections among COVID-19 patients admitted to critical care/intensive care?\n",
      "79 What impact does COPD diagnosis have on primary clinical outcomes for COVID-19 pneumonia/ARDS (i.e., hospitalization, discharge, death)?\n",
      "80 What impact does lung cancer diagnosis have on risk for COVID-19 acquisition in the general population (including asymptomatic carriage)? Do they vary by age group?\n",
      "81 What impact does lung cancer diagnosis have on risk for COVID-19 ARDS?\n",
      "82 What impact does lung cancer diagnosis have on risk for COVID-19 pneumonia?\n",
      "83 What impact does lung cancer diagnosis have on risk for complications of COVID-19 ARDS and/or COVID-19 pneumonia?\n",
      "84 What impact does lung cancer diagnosis have on risk for secondary hospital-acquired infections among COVID-19 patients admitted to critical care/intensive care?\n",
      "85 What impact does lung cancer have on primary clinical outcomes for COVID-19 pneumonia/ARDS (i.e., hospitalization, discharge, death)?\n",
      "86 What impact does tuberculosis diagnosis have on risk for COVID-19 acquisition in the general population (including asymptomatic carriage)? Do they vary by age group?\n",
      "87 What impact does tuberculosis diagnosis have on risk for COVID-19 ARDS?\n",
      "88 What impact does tuberculosis diagnosis have on risk for COVID-19 pneumonia?\n",
      "89 What impact does tuberculosis diagnosis have on risk for complications of COVID-19 ARDS and/or COVID-19 pneumonia?\n",
      "90 What impact does tuberculosis diagnosis have on risk for secondary hospital-acquired infections among COVID-19 patients admitted to critical care/intensive care?\n",
      "91 What impact does tuberculosis diagnosis have on primary clinical outcomes for COVID-19 pneumonia/ARDS (i.e., hospitalization, discharge, death)?\n",
      "92 What impact does bacterial ventilator-associated pneumonia have on the risk of COVID-19 complications in critical care/intensive care patients?\n",
      "93 What impact does bacterial ventilator-associated pneumonia have on primary clinical outcomes for COVID-19 pneumonia/ARDS (i.e., hospitalization, discharge, death)?\n",
      "94 What impact does influenza diagnosis have on risk for COVID-19 acquisition in the general population (including asymptomatic carriage)? Do they vary by age group?\n",
      "95 What impact does influenza diagnosis have on risk for COVID-19 ARDS?\n",
      "96 What impact does influenza diagnosis have on risk for COVID-19 pneumonia?\n",
      "97 What impact does influenza diagnosis have on risk for complications of COVID-19 ARDS and/or COVID-19 pneumonia?\n",
      "98 What impact does influenza diagnosis have on risk for secondary hospital-acquired infections among COVID-19 patients admitted to critical care/intensive care?\n",
      "99 What impact does influenza diagnosis have on primary clinical outcomes for COVID-19 pneumonia/ARDS (i.e., hospitalization, discharge, death)?\n",
      "100 What impact does HIV diagnosis have on risk for COVID-19 acquisition in the general population (including asymptomatic carriage)? Do they vary by age group?\n",
      "101 What impact does HIV diagnosis have on risk for COVID-19 ARDS?\n",
      "102 What impact does HIV diagnosis have on risk for COVID-19 pneumonia?\n",
      "103 What impact does HIV diagnosis have on risk for complications of COVID-19 ARDS and/or COVID-19 pneumonia?\n",
      "104 What impact does HIV diagnosis have on risk for secondary hospital-acquired infections among COVID-19 patients admitted to critical care/intensive care?\n",
      "105 What impact does HIV diagnosis have on primary clinical outcomes for COVID-19 pneumonia/ARDS (i.e., hospitalization, discharge, death)?\n",
      "106 What is the risk for COVID-19 acquisition in neonates (including asymptomatic carriage)? Do they vary by age group?\n",
      "107 What is the risk for COVID-19 ARDS in neonates compared to children of other ages under the age of 5?\n",
      "108 What is the risk for COVID-19 pneumonia in neonates compared to children of other ages under the age of 5?\n",
      "109 What is the risk for secondary hospital-acquired infections among neonatal COVID-19 patients admitted to critical care/intensive care, compared to other critical care/intensive care patients with COVID-19?\n",
      "110 What is the risk of hospitalization vs. discharge vs. death (i.e., primary clinical outcomes) for COVID-19 pneumonia/ARDS in neonates?\n",
      "111 What is the risk for COVID-19 acquisition in pregnant women compared to other women of childbearing age (including asymptomatic carriage)? Do they vary by trimester?\n",
      "112 What is the risk for COVID-19 ARDS in pregnant women compared to other women of childbearing age? Does it vary by trimester?\n",
      "113 What is the risk for COVID-19 pneumonia in pregnant women compared to other women of childbearing age? Does it vary by trimester?\n",
      "114 What is the risk for secondary hospital-acquired infections among pregnant COVID-19 patients admitted to critical care/intensive care, compared to other women of childbearing age? Does it vary by trimester?\n",
      "115 What is the risk of hospitalization vs. discharge vs. death (i.e., primary clinical outcomes) for COVID-19 pneumonia/ARDS in in pregnant women compared to other women of childbearing age? Does it vary by trimester?\n",
      "116 What is the risk of pregnancy complications in COVID-19 pneumonia/ARDS patients? Does it vary by trimester?\n",
      "117 What is the risk of miscarriage/stillbirth in COVID-19 pneumonia/ARDS patients who are pregnant? Does it vary by trimester?\n",
      "118 What is the difference between groups in risk of COVID-19 infection by education level? by income? by race and ethnicity? by contact with wildlife markets in Wuhan province? by occupation? household size? for institutionalized vs. non-institutionalized populations (long-term hospitalizations, prisons)? \n",
      "119 What is the difference between groups for risk for COVID-19 ARDS by education level? by income? by race and ethnicity? by contact with wildlife markets in Wuhan province? by occupation? household size? for institutionalized vs. non-institutionalized populations (long-term hospitalizations, prisons)? \n",
      "120 What is the risk for COVID-19 pneumonia by education level? by income? by race and ethnicity? by contact with wildlife markets in Wuhan province? by occupation? household size? for institutionalized vs. non-institutionalized populations (long-term hospitalizations, prisons)? \n",
      "121 What is the risk for secondary hospital-acquired infections by education level? by income? by race and ethnicity? by contact with wildlife markets in Wuhan province? by occupation? household size? for institutionalized vs. non-institutionalized populations (long-term hospitalizations, prisons)? \n",
      "122 What is the risk of hospitalization vs. discharge vs. death (i.e., primary clinical outcomes) for COVID-19 pneumonia/ARDS by education level? by income? by race and ethnicity? by contact with wildlife markets in Wuhan province? by occupation? household size? for institutionalized vs. non-institutionalized populations (long-term hospitalizations, prisons)? \n",
      "123 What is the basic reproductive number (R) for COVID-19 by age group? How does age-dependent population mixing impact R (e.g., children in schools, elderly in nursing homes)? \n",
      "124 What is the within-hospital value for R (i.e., hospital-acquired COVID-19 infections)? Are healthcare worker behaviors accelerating transmission in these settings?\n",
      "125 What is the serial interval for COVID-19 for different age groups? How does age-dependent population mixing impact R (e.g., children in schools, elderly in nursing homes)? \n",
      "126 What is the incubation period for COVID-19 in different age groups? How does the incubation period vary across individuals with risk factors such as prior history of lung disease, compromised immunity, or diabetes?\n",
      "127 Is COVID-19 transmitted on droplets? Is fecal-oral transmission a significant factor in person-to-person spread? Is COVID-19 clustering in households (i.e., household environmental transmission)? Is COVID-19 transmitted on aerosols? What behavioral risk factors impact these transmission routes (e.g., hand-to-mouth action in small children)?\n",
      "128 Define high-risk patient groups for risk of severe illness and/or fatality among symptomatic hospitalized patients. What are the risk factors for these outcomes? Do they vary by age group? Do they include any of the following risk factors: diabetes, hypertension, cardiac disease, hypothyroidism, liver disease, or any cancer?\n",
      "129 What are the risk factors for COVID-19 acquisition in the general population (including asymptomatic carriage)? Do they vary by age group? Do they include any of the following risk factors: diabetes, hypertension, cardiac disease, hypothyroidism, liver disease, or any cancer?\n",
      "130 What public health interventions could be instituted for high-risk groups to control COVID-19? High-risk groups may include: children (hand-to-mouth behaviors), elderly (higher rates of comorbidities), very young adults (risk takers), institutionalized populations (crowding), ICU patients (hospital-acquired infections), outpatients with chronic comorbidities (diabetes, hypertension, heart disease, hypothyroidism, liver disease, cancer).\n",
      "131 What work is being done to use real-time tracking of whole genomes and other forms of genetic analysis to inform the development of COVID-19 diagnostic tools?\n",
      "132 What work is being done to use real-time tracking of whole genomes and other forms of genetic analysis to inform the development of COVID-19 treatments?\n",
      "133 What work is being done to use real-time tracking of whole genomes and other forms of genetic analysis to evaluate changes in the virus genome over time?\n",
      "134 What mechanisms are in place or in development for coordinating the rapid dissemination of COVID-19 genome tracking data for the use in developing diagnostic tools?\n",
      "135 What mechanisms are in place or in development for coordinating the rapid dissemination of COVID-19 genome tracking data for the use in developing therapeutic drugs?\n",
      "136 What mechanisms are in place or in development for coordinating the rapid dissemination of COVID-19 genome tracking data for monitoring changes in the virus genome over time?\n",
      "137 What data sharing platforms exist in bioinformatics for disseminating information on the COVID-19 virus?\n",
      "138 How can researchers access geographically and temporally diverse COVID-19 sample sets to better understand the geographic distribution and genetic diveristy of the virus?\n",
      "139 What is being done to evaluate whether there is more than one COVID-19 strain in circulation?\n",
      "140 What multilateral agreements (e.g., Nagoya Protocol) can be leveraged for accessing COVID-19 sample sets that are geographically and temporally diverse?\n",
      "141 What evidence do we have that livestock could be infected and could serve as a reservoir of infection after the epidemic appears to be over?\n",
      "142 What field surveillance has been conducted on COVID-19 in livestock to determine whether these populations of animals could serve as a reservoir of infection?\n",
      "143 What genetic sequencing has been conducted on COVID-19 in livestock to determine whether these populations of animals could serve as a reservoir of infection?\n",
      "144 What research on receptor binding has been conducted on COVID-19 in livestock to determine whether these populations of animals could serve as a reservoir of infection?\n",
      "145 Is there any evidence that farmers or other livestock production workers are infected with COVID-19? Could this group have played a role in the origin of the COVID-19 pandemic?\n",
      "146 What are the findings of veterinary surveillance at mixed wildlife-livestock farms for SARS-CoV-2 / COVID-19 and other coronaviruses in Southeast Asia?\n",
      "147 What are the results of experimental infections to test the range of animal species that can act as hosts and potential resevoirs for COVID-19?\n",
      "148 What are the known animal hosts for COVID-19? Is there any evidence of continued transmission / spill-over from any of these species to humans?\n",
      "149 What are the socioeconomic risk factors (e.g., occupation, education) for transmission of COVID-19 from animal hosts to humans?\n",
      "150 What are the behavioral risk factors (e.g., not gloving / not covering wounds) for transmission of COVID-19 from animal hosts to humans?\n",
      "151 What sustainable risk reduction strategies exist for the prevention of spillover from COVID-19's animal hosts to humans (e.g., enhanced veterinary surveillance, occupational training, wildlife trade bans)?\n",
      "152 How effective are each of the candidate drugs being evaluated for treating COVID-19 patients?\n",
      "153 What are the results of bench trials (in vitro and animal model studies) to investigate less common viral inhibitors against COVID-19?\n",
      "154 What are the results of clinical trials (Phase 0 through IV)  to investigate naproxen/clarithromycin/minocycline/other less common viral inhibitors against COVID-19?\n",
      "155 How can the interaction of immunocomplexes with Fc receptors (complement system in immune response) be studied to evaluate the risk of ADE in vaccine recipients?\n",
      "156 How do intracellular signalling pathways mediate ADE in vaccine recipients?\n",
      "157 How do epitopes mediate ADE in vaccine recipients?\n",
      "158 How do the viral characteristics of COVID-19 impact the stoichiometric threshold of neutralization for candidate vaccines (e.g., antibody affinity and epitope accessibility)?\n",
      "159 Do circulating antibodies for COVID-19 produced during primary infection recognize and bind to a heterologous serotype of the virus?\n",
      "160 How are mutational analysis and epitope mapping being used to dissect the amino acids and domains within these proteins that could cause ADE in COVID-19 vaccine recipients?\n",
      "161 Does history of prior infection with COVID-19 increase the risk of ADE in vaccine recipients?\n",
      "162 Does history of maternal infection with COVID-19 increase the risk of ADE in neonatal vaccine recipients?\n",
      "163 What animal models are best able to replicated COVID-19 ARDS/pneumonia in both sexes of adults and the aged?\n",
      "164 What animal models best replicate the symptoms of COVID-19 ARDS/pneumonia?\n",
      "165 Which animal models best replicate both COVID-19 and one of the common comorbidities (e.g., diabetes, hypertension, cancer, lung disease, heart disease) of COVID-19 ARDS/pneumonia?\n",
      "166 Which animal models best replicate the natural history of COVID-19 (time to onset, disease progression, duration of symptoms, severity)?\n",
      "167 Which species of animal models have orthologous genes and/or proteins involved in human COVID-19 ARDS and COVID-19 pneumonia? For those that do, are the relevant mutations/alterations also the same? Is the gene/protein expression also the same?\n",
      "168 What pharmacodynamic and/or prognostic biomarkers of COVID-19 in humans are present in the animal model(s)? Do they behave similary in the animal model and in humans?\n",
      "169 Does COVID-19 transmission in the animal model mimic transmission in humans?\n",
      "170 Do the histopathological tissues in the animal model's lungs (and possibly the heart) resemble those in humans?\n",
      "171 Do drugs effective for humans also work on this animal model?\n",
      "172 Do drugs ineffective on humans also NOT work on this animal model?\n",
      "173 Are the clinical endpoints in humans for COVID-19 ARDS/pneumonia comparable to those measured in the animal model? Can these endpoints be measured in a consistent way between animal models and humans?\n",
      "174 What animal models have similar immune responses to COVID-19 to that in humans?\n",
      "175 What chemical compound libraries are in use for drug discovery (in primary assays, high-throughput assays, in vitro studies, and simulations) to discover drugs to treat COVID-19? What can be done to promote access to or the best utilization of these and/or additional chemical compound libraries for this purpose?\n",
      "176 What are the ongoing efforts to conduct high-throughput assays (i.e., primary assays, in vitro studies, reverse pharmacology) for drug discovery to treat COVID-19? What capabilities do we have or could we develop further to advance these efforts?\n",
      "177 What medicinal chemistry studies are underway to improve the affinity, selectivity, efficacy/potency, metabolic stability and oral bioavailability of potential drugs to treat COVID-19?\n",
      "178 What capital investments are needed to ramp up the drug discovery process for developing treatments for COVID-19?\n",
      "179 What clinical effectiveness studies are underway/planned/completed on candidate therapeutics for treating COVID-19?\n",
      "180 What models are available to aid decision makers in determining how to prioritize the distribution of scarce novel treatments for COVID-19 while drug production is ramping up?\n",
      "181 What approaches are available for expanding drug production capacity for COVID-19 therapuetics?\n",
      "182 What studies are under way for COVID-19 vaccine discovery?\n",
      "183 What studies are underway for COVID-19 vaccine development?\n",
      "184 What are the findings of the COVID-19 vaccine trials now underway/recently completed?\n",
      "185 What studies have been done to identify the best animal models for COVID-19 vaccine testing?\n",
      "186 What studies have been done to identify the best COVID-19 challenge methods for vaccine trials?\n",
      "187 What clinical studies are underway to evaluate the potential use of drugs to prevent primary COVID-19 infection in healthworkers (e.g., chloroquine prophylaxis)?\n",
      "188 What is the efficacy of the candidate drug for COVID-19 prophylaxis in health workers?\n",
      "189 What is the toxicity profile of the candidate drug for COVID-19 prophylaxis in health workers?\n",
      "190 What is the risk of drug-resistance spread for the candidate drug for COVID-19 prophylaxis in health workers?\n",
      "191 What is the rate of enhanced COVID-19 disease among vaccine recipients reporting adverse events?\n",
      "192 How is ELISA being used to evaluate vaccine immune response and process development for COVID-19 vaccines in humas and/or animal models? \n",
      "193 How is the cycotoxic T-lymphocyte (CTL) assay being used to evaluate vaccine immune response and process development for COVID-19 vaccines in humas and/or animal models? \n",
      "194 How is the CTL precursor frequency assay being used to evaluate vaccine immune response and process development for COVID-19 vaccines in humas and/or animal models? ,\n",
      "195 How are the CTL T-cell proliferation assays being used to evaluate vaccine immune response and process development for COVID-19 vaccines in humas and/or animal models? ,\n",
      "196 How are the carboxyfluorescein diacetate succinimidyl ester assays being used to evaluate vaccine immune response and process development for COVID-19 vaccines in humas and/or animal models?\n",
      "197 How is the intracellular and extracellular cytokine production by cells in culture using either ELISA or multiplex and flow cytometry being used to evaluate vaccine immune response and process development for COVID-19 vaccines in humas and/or animal models? ,\n",
      "198 How are the polyfunctional T-cell assays being used to evaluate vaccine immune response and process development for COVID-19 vaccines in humas and/or animal models? \n",
      "199 How are ELISpot and MHC class I/II tetramers being used to evaluate vaccine immune response and process development for COVID-19 vaccines in humas and/or animal models?\n",
      "200 What are the best practices for pandemic response preparedness and planning? What has been learned from the H1N1 and ebola pandemics about pandemic response coordination and planning? What are the barriers and facilitators to implementation of contact-tracing, self-isolation and movement controls during a pandemic?\n",
      "201 What are the principals of cross-sectoral disaster response preparedness and planning? How do these apply to implementing the following interventions: contact-tracing, self-isolation and movement controls during a pandemic?\n",
      "202 What are the best practices for financing the following interventions during a pandemic: contact-tracing, self-isolation and movement controls?\n",
      "203 What are state legislators doing to implement contact-tracing, self-isolation and movement controls for COVID-19 and what pieces of legislation are common across state legislatures? What are state governors doing to implement contact-tracing, self-isolation and movement controls for COVID-19 and how are they communicating with each other and public health authorities on this?\n",
      "204 What impact have different state policies on contact-tracing, self-isolation and movement controls had on the course of the COVID-19 pandemic within each US state? What can be learned from the experience of other jurisdictions outside the US? Have any of these states or territories employed an experimental approach (i.e., randomization to each treatment arm) for social distancing interventions and/or contact-tracing?\n",
      "205 What model-based estimates do we have of the impact of school closures on COVID-19 spread?\n",
      "206 What model-based estimates do we have of the impact of travel bans on COVID-19 spread?\n",
      "207 What model-based estimates do we have of the impact of bans on mass gatherings of various sizes on COVID-19 spread?\n",
      "208 What model-based estimates do we have of the impact of self-isolation on COVID-19 spread?\n",
      "209 What are the best practices in behavior change interventions and social marketing interventions for implementing social distancing interventions in communities? \n",
      "210 What are the barriers to compliance (or predictors of non-compliance) for social distancing interventions in communities, and how do they vary by population characteristics (e.g., age, socioeconomic status, education)?\n",
      "211 What cost-effectiveness or cost-benefit analysis have been performed to evaluate the impact of self-isolation, contact tracing and movement controls (i.e., travel bans, school closures, bans on mass gatherings) on COVID-19 spread? Do any of these models control for the covariates race, income, disability, age, geographic location, immigration status, housing status, employment status, and health insurance status?\n",
      "212 What policy changes (e.g., unemployment benefits rules, access to Medicaid, rent/utilities deferrment) are necessary to enable persons with limited resources (i.e., the unemployed and working poor) and underserved populations (i.e., the disabled) to comply with self-isolation and contact-tracing policies?\n",
      "213 What are the predictors of non-compliance with public heallth advice more generally? Do they include the following variables: education, socioeconomic status, age, occupation, social capital, household size, baseline attitudes toward authority, baseline attitudes towards scientific consensus?\n",
      "214 What was the economic impact of the H1N1 pandemic? What has been learned from this pandemic about policies and programmes that lessen risks to critical public services, food distribution and supplies, access to critical household supplies, and access to healthcare (including subsidized access to these essentials)?\n",
      "215 What was the economic impact of the Ebola pandemic? What has been learned from this pandemic about policies and programmes that lessen risks to critical public services, food distribution and supplies, access to critical household supplies, and access to healthcare (including subsidized access to these essentials)?\n",
      "216 What was the economic impact of the Spanish flu pandemic? What has been learned from this pandemic about policies and programmes that lessen risks to critical public services, food distribution and supplies, access to critical household supplies, and access to healthcare (including subsidized access to these essentials)?\n",
      "217 What has been the economic impact of the COVID-19 pandemic, and what is its projected economic impact over the course of the pandemic?\n",
      "218 What seroprevalence surveys are available for COVID-19 and what sampling frames were used in these studies? What were the inclusion and exclusion criteria for testing in these studies? How do the testing policies in the US impact the generalizability of testing results when estimating the prevalence of COVID-19 exposure and how have these policies changed over time? \n",
      "219 What covariates (e.g., age, gender, socioeconomic status, employment status, education, insurance status, race/ethnicity, language spoken at home) have been collected for participants in seroprevalence studies? How can these prevalence data be weighted to more accurately generalize to the general population in the US?\n",
      "220 What platforms exist for sharing seroprevalence survey results?\n",
      "221 What use has been made of convalescent samples in COVID-19 surveillance?\n",
      "222 What use has been made of ELISA lab methods in COVID-19 surveillance?\n",
      "223 What is being done to scale-up production of and access to testing for COVID-19 in the US?\n",
      "224 What is being done or could be done to incorporate COVID-19 surveillance into existing surveillance platforms such as the Behavioral Risk Factor Surveillance Survey, the National Health and Nutrition Examination Survey, the National Health Interview Survey, state and local health surveys, disease registries, and existing surveillance for hospital-acquired infections?\n",
      "225 What has been learned about how best to recruit, support and coordinate local experts and staff for cross-sectoral (public + private + academic) efforts in the area of surveillance for COVID-19? \n",
      "226 What are the legal and ethical barriers to recruitment and coordination of surveillance personnel across departments and sectors in the COVID-19 surveillance effort? What has been learned about these issues from our experience with the H1N1 pandemic?\n",
      "227  What are the best practices in communication for coordinating work across sectors and departments for COVID-19 surveillance? \n",
      "228 What operational issues have been encountered in coordinating and managing the surveillance effort, either during the H1N1 pandemic or this COVID-19 pandemic?\n",
      "229 What guidelines and announcements have been made about best practices for state governments on how to involve local resources (e.g., universities and private laboratories) in COVID-19 surveillance? How are these efforts linking up with CDC to ensure both upward and downward flow of information?\n",
      "230 What guidelines and announcements have been made about best practices for state governments on risk communication to the public, including surveillance updates and policy change announcements?\n",
      "231 What is the status of test development for new COVID-19 rapid tests? What are the sensitivity/specificity numbers for the candidate tests? \n",
      "232 What surveillance experiments have been registered (i.e., the protocol for the experiment is published but the experiment is not yet complete) or completed for COVID-19 PCR testing at the local level? \n",
      "233 What longitudinal data is needed for surveillance in defined areas with documentation on the timing of implementation of various public health interventions to combat COVID-19? (i.e., interrupted time series analysis) What are the design issues for these types of experiments? What operational guidance has been produced on planning and implementing these types of time series analyses?\n",
      "234 What are the best practices for interrupted time series analysis using ecological regression?\n",
      "235 What are the results of in vitro assay migration studies that can be used to develop diagnostic tests for COVID-19?\n",
      "236 What is the role of the private sector in conducting assay migration studies to develop rapid tests for COVID-19?\n",
      "237 What is being done to track genetic drift in COVID-19 samples (i.e., phylogenic tree analysis) in order to ensure that diagnostic tests do not miss mutated forms of the virus?\n",
      "238 What are the various reagents being used in COVID-19 diagnostic test development? Is there too narrow a selection of reagents that could slow down test development or lead to obsolescence of available tests when/if the virus mutates in ways that impact test sensitivity?\n",
      "239 How does COVID-19 virology impact the risk of a false negative test result under different conditions? What is the median duration of latency before the exposed person can test positive by PCR? By ELISA?\n",
      "240 How does the selection of biological and environmental sampling types (e.g., nasal swab vs. cheeck swab vs. urine sample, etc.) impact the accuracy (sensitivity/specificity) of various candidate COVID-19 rapid tests, and of the existing PCR test in use in the US?\n",
      "241 What laboratory tested biomarkers (such as cytokines) are useful for early detection of COVID-19 pneumonia? Do any of these biomarkers predict severe disease outcomes (e.g., need for mechanical ventilation, risk of death)?\n",
      "242 What are the current policies and protocols for COVID-19 screening and testing from the CDC? At the state and local level? From the WHO? How have they changed over the course of the COVID-19 pandemic?\n",
      "243 What policies have been recommended/discussed/implemented to prevent stockouts of testing supplies (e.g., swabs, reagents)?\n",
      "244 What technology forecasting has been done for COVID-19 tests in the US?\n",
      "245 What are the systemic requirements of technology development for COVID-19 tests in the US?\n",
      "246 What is the status of each candidate test in technology development for COVID-19 diagnostics? See list of test names here: https://www.finddx.org/covid-19/pipeline/\n",
      "247 What market forces are acting as barriers to developing and scaling up new diagnostic tests for COVID-19 in the US? What can be done to build coalitions for financing diagnostic test development?  How can the FDA approval process for diagnostic testing be streamlined to speed up the rollout of new COVID-19 testing resources in the US?\n",
      "248 What can be done to build coalitions for financing COVID-19 diagnostic test development (e.g., Coalition for Epidemic Preparedness and Innovation?  \n",
      "249 How can the FDA approval process for diagnostic testing be streamlined to speed up the rollout of new COVID-19 testing resources in the US?\n",
      "250 What new information-sharing platforms have been developed to speed up the development of COVID-19 diagnostic resources?\n",
      "251 What new technologies have been developed to speed up the development of COVID-19 diagnostic resources?\n",
      "252 How can portable genomic sequencing equipment be used in COVID-19 surveillance? \n",
      "253 What resouces are needed to scale up access to portable genomic sequencing equipment and the personnel trained in its use and interpretation? What can this data tell us about the course of the COVID-19 epidemic in the population?\n",
      "254 What can be done to build up capacity in human resources, technology and information sharing for genetic sequencing and phylogenic analytics in the study of other unknown pathogens, to prevent other novel pathogens from leading to global pandemics?\n",
      "255 How can naturally-occuring pathogens be distinguished from bioweapons? What resources need to be in place to detect bioweapons as opposed to naturally-occuring pathogens, and to tell the difference between the two?\n",
      "256 What is happening on COVID-19 in the One Health initiative to detect, predict and study best practices for preventing the spread of novel zoonoses from pets/wildlife/livestock to humans?\n",
      "257 What are the environmental, demographic and occupational risk factors for exposure to zoonoses in humans?\n",
      "258 What are the conditions that promote the spread of disease among farmed livestock and farmed/trafficked wildlife?\n",
      "259 What is being done to support the response of skilled nursing facilities, long term care facilities, nursing homes, assisted living facilities, mental hospitals, etc. in COVID-19 control?\n",
      "260 What is being done to mobilize surge medical staff for healthcare facilities overwhelmed with cases of COVID-19 pneumonia/ARDS?\n",
      "261 What are the predictors of staffing shortages at hospitals handling COVID-19 patients?\n",
      "262 What are the barriers and facilitators to mobilizing healthcare workers during any pandemic? What has been learned from the H1N1 pandemic in the US?\n",
      "263 What is the age-adjusted mortality rate for viral ARDS? What is the hazard ratio for viral ARDS mortality by organ failure status?\n",
      "264 What are th ECMO outcomes for COVID-19 pneumonia patients? How do these outcomes vary by age, health status, and risk factors for severe disease progression?\n",
      "265 What are the age-adjusted rates of outcomes (recovery of lung function, discharge, other organ failure, ventilator-associated pneumonia, death) for COVID-19 patients receiving mechanical ventilation?\n",
      "266 What is the frequency of extrapulmonary manifestations of COVID-19 (e.g., cadiomyopathy, cardiac arrest, sepsis, multiple organ failure)?\n",
      "267 What is the clinical course and initial presentation of each possible extrapulmonary manifestation of COVID-19 (e.g., cadiomyopathy, cardiac arrest, sepsis, multiple organ failure)?\n",
      "268 How does the Emergency Use Authorization apply to COVID-19 diagnostic and treatment resources?\n",
      "269 How do the Clinical Laboratory Improvement Amendments apply to COVID-19 diagnostics and clinical case management?\n",
      "270 How can the production of reusable elastomeric respirators be scaled up to replace the use of disposable N95 face masks?\n",
      "271 What are the best practices in digital/telemedicine? \n",
      "272 What are the barriers and facilitators to scaling up access to high quality care in digital/telemedicine? \n",
      "273 What can be done to remove barriers and expand facilitators to scaling up digital care/telemedicine within and across state boundaries?\n",
      "274 What are the best practices for home caregivers and self-isolating COVID-19 cases for managing COVID-19 pneumonia and/or mild COVID-19 symptoms on an outpatient basis?\n",
      "275 What existing oral medications might help COVID-19 pneumonia patients (e.g., chloroquine, antiviral medications)?\n",
      "276 How can artificial intelligence be used in real time to support the design and evaluation of interventions to prevent and treat COVID-19, identify risk factors for COVID-19, and predict COVID-19 outcomes in ways that could not be done without AI? :)\n",
      "277 What are the critical challenges in managing hospital flow and organization during a pandemic? What has been learned from the H1N1 pandemic on this topic? What can be done to enhance capacity, effiency and quality (i.e., health outcomes for patients)? What are the most cost-effective interventions in this area?\n",
      "278 What are the critical challenges in managing health workforce protection during a pandemic? What has been learned from the H1N1 pandemic on this topic? What can be done to enhance capacity, effiency and quality (i.e., health outcomes for patients)? What are the most cost-effective interventions in this area?\n",
      "279 What are the critical challenges in managing workforce allocation during a pandemic? What has been learned from the H1N1 pandemic on this topic? What can be done to enhance capacity, effiency and quality (i.e., health outcomes for patients)? What are the most cost-effective interventions in this area?\n",
      "280 What are the critical challenges in setting up community-based support resources during a pandemic? What has been learned from the H1N1 pandemic on this topic? What can be done to enhance capacity, effiency and quality (i.e., health outcomes for patients)? What are the most cost-effective interventions in this area? \n",
      "281 What are the critical challenges in managing healthcare supply chain management during a pandemic? What has been learned from the H1N1 pandemic on this topic? What can be done to enhance capacity, effiency and quality (i.e., health outcomes for patients)? What are the most cost-effective interventions in this area?\n",
      "282 What is known about the natural history of COVID-19 in humans? What is the typical clinical course of infection from exposure to first symptom to viral clearance or death? How does it vary by age and other risk factors for severe disease?\n",
      "283 What list of core clinical outcomes should be used to evaluate medical care interventions for COVID-19 pneumonia/ARDS in formal intervention assessments?\n",
      "284 What adjunctive and supportive interventions have been shown to improve clinical outcomes for COVID-19 pneumonia/ARDS (e.g., corticosteroids, high flow nasal oxygenation)?\n",
      "285 How do ethical principles (like triage and 'first do no harm') apply to the management of COVID-19 patients and the provision of care to other patients during the COVID-19 pandemic, under conditions of acute resource constraints?\n",
      "286 How can the translation of long-standing ethical guidelines to the COVID-19 pandemic response be coordinated across institutions, departments, sectors and jurisdictions to minimize conflicts and duplication of oversight?\n",
      "287 How can efforts to support access to ethics education and be built into the COVID-19 pandemic response?\n",
      "288 How can efforts to support access to ethics oversight capacity building be built into the COVID-19 pandemic response?\n",
      "289 What is being done to set up a team at WHO to integrate interdisciplinary and social science research and promote information sharing on COVID-19 among a global network of social scientists?\n",
      "290 What are the secondary impacts of COVID-19 interventions, and how do these impacts influence compliance with these behavior change interventions (e.g., school closures, use of surgical masks, changes in health-seeking behaviors for sexual and reproductive health services)?\n",
      "291 What are the best ways to measure secondary impacts of COVID-19 interventions (e.g., school closures, use of surgical masks, changes in health-seeking behaviors for sexual and reproductive health services)?\n",
      "292 How does the burden of caring for COVID-19 patients and implementing public health regulations to control COVID-19 impact the physical and psychological health of health sector workers, first responders, and other workers involved in rolling out these interventions?\n",
      "293 How does the burden of caring for COVID-19 patients and implementing public health regulations to control COVID-19 impact the physical and psychological health of home caregivers working with COVID-19 cases?\n",
      "294 How does the burden of caring for COVID-19 patients and implementing public health regulations to control COVID-19 impact the physical and psychological health of parents (i.e., school closures)?\n",
      "295 How does the burden of caring for COVID-19 patients and implementing public health regulations to control COVID-19 impact the physical and psychological health of children (i.e., school closures?\n",
      "296 How does the burden of caring for COVID-19 patients and implementing public health regulations to control COVID-19 impact the physical and psychological health of personnel working at long-term care facilities, nursing homes, mental hospitals, prisons, skilled nursing facilities, retirement homes, and assisted living facilities?\n",
      "297 How does the burden of caring for COVID-19 patients and implementing public health regulations to control COVID-19 impact the physical and psychological health of residents in long-term care facilities, nursing homes, mental hospitals, prisons, skilled nursing facilities, retirement homes, and assisted living facilities?\n",
      "298 What are the predictors of high levels of fear and anxiety re:COVID-19 in the general population?\n",
      "299 What are the predictors of  stigma re:COVID-19 in the general population?\n",
      "300 What are the drivers of social media rumors and misinformation spread about COVID-19?\n",
      "301 What are the predictors of vulnerability to social media rumors and misinformation spread about COVID-19 (e.g., age, education, occupation, primary source of updates on COVID-19, primary purpose of internet use, race/ethnicity, language spoken at home)?\n",
      "302 What nomenclature (dictionaries, keyword generators, search strings) is being used for data gathering on COVID-19? How is this nomenclature being standardized across research efforts and disciplines? \n",
      "303 What data-gathering and synthesizing efforts have been registered (e.g., protocols on PROSPERO for systematic reviews) or otherwise announced? How is work being coordinated across institutions (universities, funding agencies) to avoid duplication of effort?\n",
      "304 How are public health planners, healthcare administrators, and others sharing information on their response efforts across institutions (universities, drug development companies, etc.), departments (NIH, DHS, CDC, etc.) and sectors (public/private)?\n",
      "305 What are the existing barriers to efficient and effective sharing of authoritative and up-to-date information during a pandemic response among experts, officials, healthcare administrators, and the public?\n",
      "306 What are the leading causes of miscommunication about risk when communicating with stakeholders and/or the public?\n",
      "307 What are the best practices in risk communication for communicable diseases? How do they vary by target demographics (e.g., high risk age groups)?\n",
      "308 What are the best practices in social marketing campaigns for public health information dissemination? How do they vary by target demographics (e.g., high risk age groups)?\n",
      "309 What is known about the success of different approaches to clarifying voluntary community control messages in the COVID-19 response?\n",
      "310 What has been learned from recent pandemics (H1N1, ebola) about how best to coordinate local expertise and capacity for planning public health emergency response? \n",
      "311 What are the guidelines and best practices for recruiting and coordinating expertise at the local level for pandemic response?\n",
      "312 What is being done to integrate federal/state/local COVID-19 surveillance systems?\n",
      "313 What has been done so far in terms of syndromic surveillance for COVID-19?\n",
      "314 What are the most cost-effective investments state, federal and local governments can make in public health response infrastructure to prepare for peak COVID-19 numbers?\n",
      "315 What modes of communication work best for the elderly?\n",
      "316 What modes of communication work best for healthcare workers during a pandemic?\n",
      "317 What has been done to evaluate risk communication materials and strategies for ease of understanding and compliance? How has this evaluation work incorporated feedback from the elderly? feedback from healthcare workers? feedback from families of persons at elevated risk of COVID-19 complications (e.g., those with diabetes, hypertension)?\n",
      "318 How do we convey the potential risk of disease to population groups that might otherwise believe they are at negligible risk and need not comply with public health directives on COVID-19?\n",
      "319 What has been learned so far about efforts to combat misunderstandings about containment and mitigation policies (to whom do they apply, how do you comply, etc.)?\n",
      "320 What are the recommended federal, state and local government actions to address problems of equity in access to health services, health information, accurate surveillance counts and access to COVID-19 treatment in the US?\n",
      "321 What steps have been proposed/evaluated for reaching marginalized and disadvantaged populations within the US (e.g., minorities, unemployed, homeless, disabled, elderly, youth, low-wage workers who don't quality for paid sick leave, uninsured) with COVID-19 information in a way that they understand and appreciate? What can be done to improve these groups' compliance with social distancing and handwashing recommendations?\n",
      "322 What steps have been proposed/evaluated for reaching marginalized and disadvantaged populations within the US (e.g., minorities, unemployed, homeless, disabled, elderly, youth, low-wage workers who don't quality for paid sick leave, uninsured) with COVID-19 testing resources? What can be done to improve the accuracy of COVID-19 surveillance within these groups?\n",
      "323 What steps have been proposed/evaluated for reaching marginalized and disadvantaged populations within the US (e.g., minorities, unemployed, homeless, disabled, elderly, youth, low-wage workers who don't quality for paid sick leave, uninsured) with COVID-19 treatment resources? What can be done to improve early diagnosis in these groups?\n",
      "324 What steps have been proposed/evaluated for reaching marginalized and disadvantaged populations within the US (e.g., minorities, unemployed, homeless, disabled, elderly, youth, low-wage workers who don't quality for paid sick leave, uninsured) with COVID-19 treatment resources? What can be done to improve access to care in these groups?\n",
      "325 What steps have been proposed/evaluated for reaching marginalized and disadvantaged populations within the US (e.g., minorities, unemployed, homeless, disabled, elderly, youth, low-wage workers who don't quality for paid sick leave, uninsured) with COVID-19 treatment resources? What can be done to improve clinical outcomes in these groups?\n",
      "326 What adjustments to the design and utilization of data systems are needed to incorporate attention to the needs and circumstances of disadvantaged populations and underrepresented minorities in the US during the planning and implementation of COVID-19 pandemic response?\n",
      "327 What adjustments to the design and utilization of research agendas are needed to incorporate attention to the needs and circumstances of disadvantaged populations and underrepresented minorities in the US during the planning and implementation of COVID-19 pandemic response?\n",
      "328 What elevated risks from COVID-19 face incarcerated people, and how can barriers to their access to information on COVID-19 be redressed?\n",
      "329 What elevated risks from COVID-19 face incarcerated people, and how can barriers to their access to prevention opportunities (e.g., social distancing, handwashing) be redressed?\n",
      "330 What elevated risks from COVID-19 face incarcerated people, and how can barriers to their access to diagnosis for COVID-19 be redressed?\n",
      "331 What elevated risks from COVID-19 face incarcerated people, and how can barriers to their access to treatment for COVID-19 be redressed?\n",
      "332 How do insurance coverage policies create barriers and opportunities for the insured related to COVID-19 testing? Do differences in state legislation and implementation of the Affordable Care Act lead to different outcomes in this area?\n",
      "333 How do insurance coverage policies create barriers and opportunities for the insured related to COVID-19 treatment? Do differences in state legislation and implementation of the Affordable Care Act lead to different outcomes in this area?\n",
      "334 How do insurance coverage policies create barriers and opportunities for the insured related to COVID-19 care? Do differences in state legislation and implementation of the Affordable Care Act lead to different outcomes in this area?\n"
     ]
    }
   ],
   "source": [
    "for i, question in enumerate(subquestions):\n",
    "    print(i, question)"
   ]
  },
  {
   "cell_type": "markdown",
   "metadata": {},
   "source": [
    "<h3> Ranking Scoring Function </h3>"
   ]
  },
  {
   "cell_type": "markdown",
   "metadata": {},
   "source": [
    "Once we have the query (short query) we obtain a dictionary with paper_id -> similarity."
   ]
  },
  {
   "cell_type": "code",
   "execution_count": 66,
   "metadata": {},
   "outputs": [],
   "source": [
    "scores = ranking.get_bm25_scores(query, df[(df.after_dec == True) & (df.tag_disease_covid == True)].paper_id)\n",
    "#similar = ranking.most_similar(query, df, func='bm25', data='text')\n",
    "sorted_paper_id = sorted(scores.items(), key=lambda x:x[1], reverse=True)"
   ]
  },
  {
   "cell_type": "code",
   "execution_count": 67,
   "metadata": {},
   "outputs": [
    {
     "data": {
      "image/png": "[encoded data removed]",
      "text/plain": [
       "<Figure size 432x288 with 1 Axes>"
      ]
     },
     "metadata": {
      "needs_background": "light"
     },
     "output_type": "display_data"
    }
   ],
   "source": [
    "# Plot the score distribution of the raking function\n",
    "points = sorted(scores.values(), reverse=True)\n",
    "plt.hist(points, bins=20)\n",
    "plt.show()"
   ]
  },
  {
   "cell_type": "code",
   "execution_count": 68,
   "metadata": {},
   "outputs": [],
   "source": [
    "ranking_nearest = [a for a,b in sorted_paper_id] # Ranking function nearest"
   ]
  },
  {
   "cell_type": "markdown",
   "metadata": {},
   "source": [
    "<h2> Information Retrieval </h2>"
   ]
  },
  {
   "cell_type": "markdown",
   "metadata": {},
   "source": [
    "Once we have the relevant documents, we must extract the information relevant to the query."
   ]
  },
  {
   "cell_type": "code",
   "execution_count": 69,
   "metadata": {},
   "outputs": [],
   "source": [
    "from information_retrieval import *"
   ]
  },
  {
   "cell_type": "code",
   "execution_count": 70,
   "metadata": {},
   "outputs": [],
   "source": [
    "inforet = Embedding_retrieval()"
   ]
  },
  {
   "cell_type": "code",
   "execution_count": 71,
   "metadata": {},
   "outputs": [
    {
     "data": {
      "text/plain": [
       "['mfiaubqb',\n",
       " 'hj8qanbb',\n",
       " 'q4i9kh65',\n",
       " 'ro66qxwx',\n",
       " 'isbq1fqt',\n",
       " 'd9v5xtx7',\n",
       " '8avkjc84',\n",
       " 'j72tsof8',\n",
       " '1awl4val',\n",
       " 'atnxkvy6']"
      ]
     },
     "execution_count": 71,
     "metadata": {},
     "output_type": "execute_result"
    }
   ],
   "source": [
    "#ranking_nearest.index('isbq1fqt')\n",
    "ranking_nearest[:10]"
   ]
  },
  {
   "cell_type": "code",
   "execution_count": 72,
   "metadata": {},
   "outputs": [],
   "source": [
    "#print(df[df.paper_id == ranking_nearest[0]].text.values[0])"
   ]
  },
  {
   "cell_type": "markdown",
   "metadata": {},
   "source": [
    "If we don't use the clusters we obtain the following output:"
   ]
  },
  {
   "cell_type": "code",
   "execution_count": 73,
   "metadata": {},
   "outputs": [
    {
     "name": "stderr",
     "output_type": "stream",
     "text": [
      "C:\\Users\\apunt\\tfg\\clone_test\\covid19_challenge\\information_retrieval.py:54: RuntimeWarning: invalid value encountered in log\n",
      "  idf = np.log((self.num_documents - df + 0.5) / (df + 0.5))\n"
     ]
    }
   ],
   "source": [
    "# NO CLUSTERS\n",
    "doc_info = []\n",
    "for paper_id in ranking_nearest:\n",
    "    actual_doc = []\n",
    "    row = df.loc[df.paper_id == paper_id]\n",
    "    if not len(row.text.values) != 0 or not row['after_dec'].values[0]:\n",
    "        continue\n",
    "    text = df.loc[df.paper_id == paper_id].text.values[0]\n",
    "    similar_sent = inforet.get_closest_sentence(query, paper_id, text, topk=10)\n",
    "    for sent, sim in similar_sent:\n",
    "        actual_doc.append((paper_id, sent, sim))\n",
    "    doc_info.append(actual_doc)\n",
    "    "
   ]
  },
  {
   "cell_type": "markdown",
   "metadata": {},
   "source": [
    "Here we see the most similar senteces to the query from different documents."
   ]
  },
  {
   "cell_type": "code",
   "execution_count": 74,
   "metadata": {},
   "outputs": [
    {
     "name": "stdout",
     "output_type": "stream",
     "text": [
      "2438\n"
     ]
    }
   ],
   "source": [
    "print(len(ranking_nearest))"
   ]
  },
  {
   "cell_type": "code",
   "execution_count": 75,
   "metadata": {},
   "outputs": [],
   "source": [
    "import itertools\n",
    "all_sent = list(itertools.chain.from_iterable(doc_info))\n",
    "all_sent = sorted(all_sent, key=lambda x:x[2], reverse=True)"
   ]
  },
  {
   "cell_type": "code",
   "execution_count": 76,
   "metadata": {},
   "outputs": [
    {
     "name": "stdout",
     "output_type": "stream",
     "text": [
      "For the query: Persistence and stability in fecal matter\n",
      "0.8107081802561691  [j7t9nebs]\n",
      "The strong intestinal ACE2 expression is particularly interesting given the emerging clinical reports of fecal shedding and persistence post-recovery which may reflect a fecal-oral transmission pattern 10-12 .\n",
      "\n",
      "\n",
      "0.7954511192692587  [r5a46n9a]\n",
      "Second, the viability of virus in stools, plasma and urine, and its role in pathogenesis or transmission need to be clarified.\n",
      "\n",
      "\n",
      "0.790664655912122  [nil1vv6h]\n",
      "Differences between sediment and water are not unexpected as the sediment likely represents a longer-term accumulation of biomaterial and the water represents more acute contamination at the surface and variable mixing throughout.\n",
      "\n",
      "\n",
      "0.7883679097088827  [ztcyvsoi]\n",
      "The virus is also present in the stool and contamination of the water supply and subsequent transmission via aerosolization/feco oral route is also hypothesized [6].\n",
      "\n",
      "\n",
      "0.7874811536881253  [wlat2rrl]\n",
      "Another issue of potential significance, is the extended duration of viral shedding in faeces.\n",
      "\n",
      "\n"
     ]
    }
   ],
   "source": [
    "print('For the query: {}'.format(query))\n",
    "for paper_id, sentence, similarity in all_sent[:5]:\n",
    "    print(str(similarity) + '  [{}]'.format(paper_id))\n",
    "    print(sentence)\n",
    "    print('\\n')"
   ]
  },
  {
   "cell_type": "markdown",
   "metadata": {},
   "source": [
    "To see the most relevant sentences of the most relevant documents."
   ]
  },
  {
   "cell_type": "code",
   "execution_count": 77,
   "metadata": {},
   "outputs": [
    {
     "name": "stdout",
     "output_type": "stream",
     "text": [
      "DOCUMENT 1: mfiaubqb\n",
      "-------------------------\n",
      "\n",
      "\n",
      "Sentence 1: 0.7152209425608703\n",
      "Virus stability in community or hospital environment may vary and determines a high or low risk of transmission depending upon the significant exposure of the host.\n",
      "\n",
      "\n",
      "Sentence 2: 0.6902238141857894\n",
      "It is important to know the natural history of the disease as well as viral shedding in different stages of clinical illness.\n",
      "\n",
      "\n",
      "Sentence 3: 0.6875128948382141\n",
      "We should review the available scientific information to identify animal host(s) for preventing continued spill-over and better understanding of various aspects related to SARS CoV2 transmission such as time duration, severity of disease and host susceptibility.\n",
      "\n",
      "\n",
      "DOCUMENT 2: hj8qanbb\n",
      "-------------------------\n",
      "\n",
      "\n",
      "Sentence 1: 0.7839291893084233\n",
      "Viruses have a direct connection to wastewater and drinking water purification when\n",
      "they are excreted in feces or urine (Table 1),9 but there is limited data on the\n",
      "concentration of enveloped viruses in feces and urine.\n",
      "\n",
      "\n",
      "Sentence 2: 0.7757492087256634\n",
      "Virus particles in the air and on fomites are exposed to a range of environmental\n",
      "conditions that influence their persistence.\n",
      "\n",
      "\n",
      "Sentence 3: 0.7679101791178677\n",
      "Relative humidity, fomite material,\n",
      "and air temperature can greatly impact enveloped virus inactivation\n",
      "rates.2−5 Even the medium in which the\n",
      "virus is suspended can greatly impact persistence.6 For\n",
      "example, chlorine-based solutions and hydrogen peroxide gas are effective at\n",
      "inactivating the enveloped virus surrogate Phi6 on fomites,7,8 but the presence of\n",
      "blood requires much higher hydrogen peroxide gas doses.8 Future\n",
      "mechanistic studies should probe how specific constituents in the matrix,\n",
      "temperature, humidity, and solar radiation each impact inactivation.\n",
      "\n",
      "\n",
      "DOCUMENT 3: q4i9kh65\n",
      "-------------------------\n",
      "\n",
      "\n",
      "Sentence 1: 0.7017486296093304\n",
      "Knowledge about the duration of viral shedding remains important for patient 17 management and infection control.\n",
      "\n",
      "\n",
      "Sentence 2: 0.6957373016968628\n",
      "A total of 14 close 55 contacts were identified and followed for 14 days, but none had signs of respiratory infections, 56\n",
      "and their throat swabs collected on day 14 of quarantine were RT-PCR negative for SARS-CoV-57\n",
      "Long duration of viral detection in throat swabs by RT-PCR has been reported in a case series 59 from China (2) Collectively, our report shows the persistence of PCR positivity in throat and rectum of a patient 64 with COVID-19, which may potentially indicate persistent viral shedding.\n",
      "\n",
      "\n",
      "Sentence 3: 0.692452378082268\n",
      "As such COVID-19 65 patients may remain infectious for long periods, and fecal-oral transmission may be possible.\n",
      "\n",
      "\n",
      "DOCUMENT 4: ro66qxwx\n",
      "-------------------------\n",
      "\n",
      "\n",
      "Sentence 1: 0.765905606050472\n",
      "Though viral detection in the stool does not necessarily equate to virus infectivity and direct evidence of fecal transmission of COVID-19 has yet to be identified, the implementation of high-level disinfection for surfaces potentially contaminated by feces is strongly recommended.\n",
      "\n",
      "\n",
      "Sentence 2: 0.7265254006230749\n",
      "Emerging evidence shows persistence of SARS-COV-2 virus RNA in stool samples or rectal swabs even after respiratory specimens tested negative [6, 16] .\n",
      "\n",
      "\n",
      "Sentence 3: 0.7248997036055052\n",
      "More importantly, the evidence of SARS-CoV-2 detection in patient stool and the tentative fecal-oral route transmission have raised great concern and posed a challenge for control and prevention of COVID-19 [2] .\n",
      "\n",
      "\n",
      "DOCUMENT 5: isbq1fqt\n",
      "-------------------------\n",
      "\n",
      "\n",
      "Sentence 1: 0.7726004738175365\n",
      "The presence of virus in the stool and its long fecal persistence time suggest that orofecal transmission is possible, leading to several implications and requiring additional precautions.\n",
      "\n",
      "\n",
      "Sentence 2: 0.7461241482414978\n",
      "The evidence of SARS-CoV-2 in the stools and in gastrointestinal histological samples and its prolongedpersistence at the stool compared to nasopharyngeal swabs strongly suggests that orofecal transmission is possible, justifying the execution of fecal PCR in suspect patients 27 .\n",
      "\n",
      "\n",
      "Sentence 3: 0.7355285147684382\n",
      "A stool sample was collected following loose bowel movements to verify the presence of the virus 37 .\n",
      "\n",
      "\n",
      "DOCUMENT 6: d9v5xtx7\n",
      "-------------------------\n",
      "\n",
      "\n",
      "Sentence 1: 0.7467937510340683\n",
      "5 Low humidity and temperature increased the stability of influenza virus in aerosols and on surfaces.\n",
      "\n",
      "\n",
      "Sentence 2: 0.7240854291755134\n",
      "In fact, there were several pieces of direct molecular evidence supporting the interspecies transmission of AIV to equines, in addition to the 1989-1990 EI outbreaks in China.\n",
      "\n",
      "\n",
      "Sentence 3: 0.7088003259907859\n",
      "Further work should focus on understanding difference in virus survival, transmission by influenza subtype and lineage under humid and hot conditions.\n",
      "\n",
      "\n"
     ]
    }
   ],
   "source": [
    "for i, doc in enumerate(doc_info):\n",
    "    if i > 5:\n",
    "        break\n",
    "    print('DOCUMENT {}: {}'.format(i+1, doc[0][0]))\n",
    "    print('-------------------------')\n",
    "    print('\\n')\n",
    "    for j, item in enumerate(doc[:3]):\n",
    "        _, sent, similarity = item\n",
    "        print('Sentence {}: {}'.format(j+1, similarity))\n",
    "        print(sent)\n",
    "        print('\\n')"
   ]
  },
  {
   "cell_type": "markdown",
   "metadata": {},
   "source": [
    "<h3> Doc2Vec Embeddings </h3>"
   ]
  },
  {
   "cell_type": "markdown",
   "metadata": {},
   "source": [
    "We take the most relevant document to look for the nearest document embeddings."
   ]
  },
  {
   "cell_type": "code",
   "execution_count": 43,
   "metadata": {},
   "outputs": [],
   "source": [
    "paper_id = sorted_paper_id[0][0]\n",
    "text_query = df[df.paper_id==paper_id].text.values[0]\n",
    "\n",
    "nearest = m.get_nearest(df, paper_id, k=100) # Get nearest from the train vectors\n",
    "most_similar = m.most_similar(df, 100, text_query) # Infer vector from query and get nearest"
   ]
  },
  {
   "cell_type": "markdown",
   "metadata": {},
   "source": [
    "We can now check how many of the papers ids are shared between the different nearest approximations."
   ]
  },
  {
   "cell_type": "code",
   "execution_count": 9,
   "metadata": {},
   "outputs": [
    {
     "name": "stdout",
     "output_type": "stream",
     "text": [
      "The sets are not of equal length!\n",
      "Intersection between nearest and ranking: 39\n",
      "Intersection between most similar and ranking: 11\n",
      "Intersection between nearest and similar: 1\n"
     ]
    }
   ],
   "source": [
    "doc2vec_nearest_set = set(nearest)\n",
    "ranking_nearest_set = set(ranking_nearest)\n",
    "doc2vec_most_similar_set = set(most_similar)\n",
    "\n",
    "length = len(ranking_nearest)\n",
    "\n",
    "if length != len(ranking_nearest_set) or length != len(doc2vec_most_similar_set):\n",
    "    print('The sets are not of equal length!')\n",
    "else:\n",
    "    print('From a total length of {}'.format(len(doc2vec_nearest_set)))\n",
    "\n",
    "print('Intersection between nearest and ranking:\\\n",
    " {}'.format(len(doc2vec_nearest_set.intersection(ranking_nearest_set))))\n",
    "print('Intersection between most similar and ranking:\\\n",
    " {}'.format(len(doc2vec_most_similar_set.intersection(ranking_nearest_set))))\n",
    "print('Intersection between nearest and similar:\\\n",
    " {}'.format(len(doc2vec_nearest_set.intersection(doc2vec_most_similar_set))))"
   ]
  },
  {
   "cell_type": "markdown",
   "metadata": {},
   "source": [
    "<h3> Clustering </h3>"
   ]
  },
  {
   "cell_type": "markdown",
   "metadata": {},
   "source": [
    "We will compute a k-means clustering with the Doc2Vec embeddings."
   ]
  },
  {
   "cell_type": "code",
   "execution_count": 10,
   "metadata": {},
   "outputs": [],
   "source": [
    "clusters  = m.get_clusters(df)"
   ]
  },
  {
   "cell_type": "code",
   "execution_count": 11,
   "metadata": {},
   "outputs": [],
   "source": [
    "def get_cluster_dict(df, clusters, vector, model_class):\n",
    "    comm_cluster = model_class.common_cluster(df, clusters, vector = vector)\n",
    "    d = {}\n",
    "    for el in comm_cluster:\n",
    "        key = model_class.get_cluster_for_text(df, clusters, el[0])\n",
    "        d[key] = el\n",
    "    return d"
   ]
  },
  {
   "cell_type": "markdown",
   "metadata": {},
   "source": [
    "For the nearest documents computed before, we can see the distribution over the different clusters."
   ]
  },
  {
   "cell_type": "code",
   "execution_count": 12,
   "metadata": {},
   "outputs": [
    {
     "name": "stdout",
     "output_type": "stream",
     "text": [
      "Ranking:\n",
      "[(0, 140), (1, 45), (2, 49), (3, 54), (4, 1306), (5, 34), (6, 36), (7, 108), (8, 18), (9, 5), (10, 55), (11, 17), (12, 37), (13, 25), (14, 17), (15, 19), (16, 17), (17, 11), (18, 36), (19, 62)]\n",
      "Nearest:\n",
      "[(0, 4), (1, 5), (2, 2), (4, 80), (7, 2), (19, 2)]\n",
      "Simmilar:\n",
      "[(0, 6), (4, 48), (7, 6), (19, 39)]\n"
     ]
    }
   ],
   "source": [
    "d_ranking = m.get_cluster_dict(df, clusters, ranking_nearest)\n",
    "d_nearest = m.get_cluster_dict(df, clusters, nearest)\n",
    "d_similar = m.get_cluster_dict(df, clusters, most_similar)\n",
    "\n",
    "print('Ranking:')\n",
    "print([(key, len(value)) for key, value in d_ranking.items()])\n",
    "print('Nearest:')\n",
    "print([(key, len(value)) for key, value in d_nearest.items()])\n",
    "print('Simmilar:')\n",
    "print([(key, len(value)) for key, value in d_similar.items()])"
   ]
  },
  {
   "cell_type": "markdown",
   "metadata": {},
   "source": [
    "To understand the different clusters we will look for the most common words in each cluster. This will give us an overview of the cluster thopics."
   ]
  },
  {
   "cell_type": "code",
   "execution_count": 13,
   "metadata": {},
   "outputs": [
    {
     "name": "stdout",
     "output_type": "stream",
     "text": [
      "0 2792\n",
      "1 1546\n",
      "2 2097\n",
      "3 2217\n",
      "4 6614\n",
      "5 1174\n",
      "6 1006\n",
      "7 2163\n",
      "8 527\n",
      "9 336\n",
      "10 1825\n",
      "11 572\n",
      "12 1585\n",
      "13 701\n",
      "14 333\n",
      "15 475\n",
      "16 437\n",
      "17 475\n",
      "18 1112\n",
      "19 1198\n"
     ]
    }
   ],
   "source": [
    "cluster_papers = []\n",
    "for i in range(20):\n",
    "    cluster_papers.append(m.get_one_cluster(df, clusters, i))\n",
    "    \n",
    "cluster_length = []\n",
    "for clus, l in enumerate(cluster_papers):\n",
    "    cluster_length.append(len(l))\n",
    "    print(clus, len(l)) # Print cluster number, number of documents"
   ]
  },
  {
   "cell_type": "code",
   "execution_count": 69,
   "metadata": {},
   "outputs": [],
   "source": [
    "from collections import Counter\n",
    "import re\n",
    "\n",
    "def get_texts(df, paper_ids):\n",
    "    # TODO maybe with lemmatization and stemming we will get a better representation\n",
    "    all_texts = []\n",
    "    for key in paper_ids:\n",
    "        t = df.loc[df.paper_id==key].text.values[0]\n",
    "        list_t = m.filtered_query(t.lower())        \n",
    "        all_texts += list_t\n",
    "    return all_texts"
   ]
  },
  {
   "cell_type": "markdown",
   "metadata": {},
   "source": [
    "We will firt look at one cluster."
   ]
  },
  {
   "cell_type": "code",
   "execution_count": 70,
   "metadata": {},
   "outputs": [
    {
     "data": {
      "text/plain": [
       "[('virus', 9042),\n",
       " ('viral', 8930),\n",
       " ('protein', 8499),\n",
       " ('cells', 8421),\n",
       " ('proteins', 8191),\n",
       " ('rna', 7503),\n",
       " ('viruses', 6328),\n",
       " ('cell', 5661),\n",
       " ('replication', 4418),\n",
       " ('infection', 4089)]"
      ]
     },
     "execution_count": 70,
     "metadata": {},
     "output_type": "execute_result"
    }
   ],
   "source": [
    "cluster_0 = get_texts(df, cluster_papers[0])\n",
    "word_count_cluster_0 = Counter(cluster_0)\n",
    "word_count_cluster_0.most_common(10)"
   ]
  },
  {
   "cell_type": "markdown",
   "metadata": {},
   "source": [
    "To look at the word distribution over all the clusters run the following cells."
   ]
  },
  {
   "cell_type": "code",
   "execution_count": null,
   "metadata": {},
   "outputs": [],
   "source": [
    "comm = []\n",
    "for el in cluster_papers:\n",
    "    cluster_texts = get_texts(df, el)\n",
    "    word_count = Counter(cluster_texts)\n",
    "    comm.append([a for a,b in word_count.most_common(40)])      "
   ]
  },
  {
   "cell_type": "code",
   "execution_count": null,
   "metadata": {},
   "outputs": [],
   "source": [
    "for cl, el in enumerate(comm):\n",
    "    print('Cluster {}: {}'.format(cl,el[:20]))"
   ]
  },
  {
   "cell_type": "markdown",
   "metadata": {},
   "source": [
    "Trying train embeddings on the smaller subset."
   ]
  },
  {
   "cell_type": "code",
   "execution_count": 42,
   "metadata": {},
   "outputs": [
    {
     "data": {
      "text/plain": [
       "'Prevalence of comorbidities in the novel Wuhan coronavirus (COVID-19) infection: a systematic review and meta-analysis'"
      ]
     },
     "execution_count": 42,
     "metadata": {},
     "output_type": "execute_result"
    }
   ],
   "source": [
    "df.loc[df.paper_id == 'o56j4qio'].title.values[0]"
   ]
  },
  {
   "cell_type": "markdown",
   "metadata": {},
   "source": [
    "The following cell is to select only those documents post COVID19 (01-12-2019)"
   ]
  },
  {
   "cell_type": "code",
   "execution_count": 158,
   "metadata": {},
   "outputs": [],
   "source": [
    "def check_words(l, abstract):\n",
    "    for word in l:\n",
    "        if word in abstract:\n",
    "            return True\n",
    "    return False"
   ]
  },
  {
   "cell_type": "code",
   "execution_count": 159,
   "metadata": {},
   "outputs": [],
   "source": [
    "retr_cluster_7 = []\n",
    "clus_num = []\n",
    "count = 0\n",
    "for paper_id in ranking_nearest:\n",
    "    if not len(df.loc[df.paper_id == paper_id].text.values) != 0:\n",
    "        continue\n",
    "    text = df.loc[df.paper_id == paper_id].text.values[0]\n",
    "    if not check_words(covid_19, text.lower()):\n",
    "        continue\n",
    "    retr_cluster_7.append(inforet.get_closest_sentence(query, paper_id, text, topk=10))\n",
    "    clus_num.append(m.get_cluster_for_text(df, clusters, paper_id))"
   ]
  },
  {
   "cell_type": "code",
   "execution_count": 160,
   "metadata": {},
   "outputs": [
    {
     "name": "stdout",
     "output_type": "stream",
     "text": [
      "DOCUMENT 1\n",
      "-------------------------\n",
      "\n",
      "\n",
      "Sentence 1:\n",
      "('Incubation period distribution\\nUsing the duration of stay in Wuhan and the symptom onset date, we obtained a range of possible values for the incubation period of each case.', 0.7500401634573534)\n",
      "\n",
      "\n",
      "Sentence 2:\n",
      "('Comparison of 2019 novel coronavirus, severe acute respiratory syndrome and Middle East respiratory syndrome coronaviruses’ incubation periods\\nA comparison to the estimated incubation period distribution for MERS (Table 3 and Figure 3) shows that the incubation period values are remarkably similar, with mean values differing at most 1 day and 95th percentiles differing at most 2 days.', 0.707227909139887)\n",
      "\n",
      "\n",
      "Sentence 3:\n",
      "('Our estimate of the mean incubation period is longer than the value of 5.2 days based on 10 cases [12], and 4.8 days (range: 2–11) based on 16 travellers between Wuhan and Guangdong [13].', 0.6975478799169432)\n",
      "\n",
      "\n",
      "DOCUMENT 2\n",
      "-------------------------\n",
      "\n",
      "\n",
      "Sentence 1:\n",
      "('Incubation period distribution\\nUsing the duration of stay in Wuhan and the symptom onset date, we obtained a range of possible values for the incubation period of each case.', 0.7500401634573534)\n",
      "\n",
      "\n",
      "Sentence 2:\n",
      "('Comparison of 2019-nCoV incubation period to incubation periods of SARS and MERS coronaviruses\\nA comparison to the estimated incubation period distribution for MERS (Tab.', 0.7437582460155551)\n",
      "\n",
      "\n",
      "Sentence 3:\n",
      "('Figure 1 shows the time line for each case, where the cases without a maximum incubation period lack an unexposed (gray) period.', 0.7023120837467133)\n",
      "\n",
      "\n",
      "DOCUMENT 3\n",
      "-------------------------\n",
      "\n",
      "\n",
      "Sentence 1:\n",
      "('However, given recent evidence of SARS-CoV-2 transmission by mildly symptomatic and asymptomatic persons (17, 18), we note that time from exposure to onset of infectiousness (latent period) may be shorter than the incubation period estimated here, with important implications for\\ntransmission dynamics.', 0.6969906053234282)\n",
      "\n",
      "\n",
      "Sentence 2:\n",
      "('We estimated the median incubation period of COVID-19 to be 5.1 days and expect that nearly all infected persons who have symptoms will do so within 12 days of infection.', 0.6693238608374326)\n",
      "\n",
      "\n",
      "Sentence 3:\n",
      "('Among those who developed symptoms in the community, the median time from symptom onset to hospitalization was 1.2 days (range, 0.2 to 29.9 days) (Figure 1).', 0.6662516738615033)\n",
      "\n",
      "\n",
      "DOCUMENT 4\n",
      "-------------------------\n",
      "\n",
      "\n",
      "Sentence 1:\n",
      "('We estimated the mean incubation period to be 4.9\\nDiscussion\\nOur study initially demonstrated asymptomatic transmission of COVID-19 in the incubation period, especially in the last three days of incubation period, by estimating the incubation period with the use of accurate exposure history of confirmed cases.', 0.7561386753232836)\n",
      "\n",
      "\n",
      "Sentence 2:\n",
      "('The majority (82.1%) had an exposure period of 1-2 days, and 67.9% had a short travel history to Wuhan city.', 0.6398262187785939)\n",
      "\n",
      "\n",
      "Sentence 3:\n",
      "('The exposure time of the majority cases in Wuhan is ambiguous and therefore cannot be used to estimate the incubation period.', 0.6087088317986431)\n",
      "\n",
      "\n",
      "DOCUMENT 5\n",
      "-------------------------\n",
      "\n",
      "\n",
      "Sentence 1:\n",
      "('Incubation period distribution ::: Materials and methods\\nWe use a gamma distribution to model individual incubation times.', 0.732747090082301)\n",
      "\n",
      "\n",
      "Sentence 2:\n",
      "('Here we considered three mean incubation times, which together span the range of most existing mean estimates: 4.5, 5.5 and 6.5 days (Table 1).', 0.691674269885224)\n",
      "\n",
      "\n",
      "Sentence 3:\n",
      "('R0 and the mean incubation period were negatively associated with the fraction of cases detected.', 0.6654272625632477)\n",
      "\n",
      "\n",
      "DOCUMENT 6\n",
      "-------------------------\n",
      "\n",
      "\n",
      "Sentence 1:\n",
      "('Incubation period\\nWe explored several distributions for the incubation period: Weibull, gamma and log normal.', 0.7996332656507282)\n",
      "\n",
      "\n",
      "Sentence 2:\n",
      "('Incubation period\\nIn the Singapore dataset, we find that the median incubation period is 6.55 days with the Weibull 8.91, 11 .56).', 0.7604166503076688)\n",
      "\n",
      "\n",
      "Sentence 3:\n",
      "('Pre-symptomatic transmission\\nWe sampled the estimated serial interval and incubation period distributions to estimate the probability that the incubation period minus the serial interval is negative.', 0.750047173874221)\n",
      "\n",
      "\n"
     ]
    }
   ],
   "source": [
    "for i, doc in enumerate(retr_cluster_7):\n",
    "    if i > 5:\n",
    "        break\n",
    "    print('DOCUMENT {}'.format(i+1))\n",
    "    print('-------------------------')\n",
    "    print('\\n')\n",
    "    for j, sent in enumerate(doc):\n",
    "        if j ==3:\n",
    "            break\n",
    "        print('Sentence {}:'.format(j+1))\n",
    "        print(sent)\n",
    "        print('\\n')"
   ]
  },
  {
   "cell_type": "code",
   "execution_count": 161,
   "metadata": {},
   "outputs": [
    {
     "name": "stdout",
     "output_type": "stream",
     "text": [
      "Length ranking_nearest: 2091\n"
     ]
    }
   ],
   "source": [
    "count = 0\n",
    "print('Length ranking_nearest: {}'.format(len(ranking_nearest)))\n",
    "\n",
    "for paper_id in ranking_nearest:\n",
    "    if not len(df.loc[df.paper_id == paper_id].text.values) != 0:\n",
    "        continue\n",
    "    text = df.loc[df.paper_id == paper_id].text.values[0]\n",
    "    if check_words(covid_19, text.lower()):\n",
    "        count+=1"
   ]
  },
  {
   "cell_type": "code",
   "execution_count": 162,
   "metadata": {},
   "outputs": [
    {
     "name": "stdout",
     "output_type": "stream",
     "text": [
      "1316\n"
     ]
    }
   ],
   "source": [
    "print(count)"
   ]
  },
  {
   "cell_type": "code",
   "execution_count": 163,
   "metadata": {},
   "outputs": [],
   "source": [
    "count_dict = {}\n",
    "for i in range(20):\n",
    "    count_dict[i] = 0\n",
    "\n",
    "for paper_id in df.paper_id:\n",
    "    if not paper_id in ranking_nearest:\n",
    "        continue\n",
    "    if not len(df.loc[df.paper_id == paper_id].text.values) != 0:\n",
    "        continue\n",
    "    text = df.loc[df.paper_id == paper_id].text.values[0]\n",
    "    if check_words(covid_19, text.lower()):\n",
    "        cluster = m.get_cluster_for_text(df, clusters, paper_id)\n",
    "        count_dict[cluster] += 1"
   ]
  },
  {
   "cell_type": "code",
   "execution_count": 164,
   "metadata": {
    "scrolled": true
   },
   "outputs": [
    {
     "name": "stdout",
     "output_type": "stream",
     "text": [
      "{0: 2, 1: 1, 2: 0, 3: 0, 4: 6, 5: 7, 6: 5, 7: 4, 8: 20, 9: 81, 10: 1091, 11: 11, 12: 0, 13: 9, 14: 17, 15: 1, 16: 3, 17: 8, 18: 50, 19: 0}\n"
     ]
    }
   ],
   "source": [
    "print(count_dict)"
   ]
  },
  {
   "cell_type": "code",
   "execution_count": 165,
   "metadata": {},
   "outputs": [
    {
     "ename": "NameError",
     "evalue": "name 'cluster_id' is not defined",
     "output_type": "error",
     "traceback": [
      "\u001b[1;31m---------------------------------------------------------------------------\u001b[0m",
      "\u001b[1;31mNameError\u001b[0m                                 Traceback (most recent call last)",
      "\u001b[1;32m<ipython-input-165-30d9ec6b5e47>\u001b[0m in \u001b[0;36m<module>\u001b[1;34m\u001b[0m\n\u001b[1;32m----> 1\u001b[1;33m \u001b[1;32mfor\u001b[0m \u001b[0mpaper_id\u001b[0m \u001b[1;32min\u001b[0m \u001b[0mcluster_id\u001b[0m\u001b[1;33m[\u001b[0m\u001b[1;36m13\u001b[0m\u001b[1;33m]\u001b[0m\u001b[1;33m:\u001b[0m\u001b[1;33m\u001b[0m\u001b[1;33m\u001b[0m\u001b[0m\n\u001b[0m\u001b[0;32m      2\u001b[0m     \u001b[1;32mif\u001b[0m \u001b[0mpaper_id\u001b[0m \u001b[1;32min\u001b[0m \u001b[0mres\u001b[0m\u001b[1;33m.\u001b[0m\u001b[0mpaper_id\u001b[0m\u001b[1;33m:\u001b[0m\u001b[1;33m\u001b[0m\u001b[1;33m\u001b[0m\u001b[0m\n\u001b[0;32m      3\u001b[0m         \u001b[0mprint\u001b[0m\u001b[1;33m(\u001b[0m\u001b[0mpaper_id\u001b[0m\u001b[1;33m)\u001b[0m\u001b[1;33m\u001b[0m\u001b[1;33m\u001b[0m\u001b[0m\n\u001b[0;32m      4\u001b[0m         \u001b[1;32mbreak\u001b[0m\u001b[1;33m\u001b[0m\u001b[1;33m\u001b[0m\u001b[0m\n",
      "\u001b[1;31mNameError\u001b[0m: name 'cluster_id' is not defined"
     ]
    }
   ],
   "source": [
    "for paper_id in cluster_id[13]:\n",
    "    if paper_id in res.paper_id:\n",
    "        print(paper_id)\n",
    "        break"
   ]
  },
  {
   "cell_type": "code",
   "execution_count": null,
   "metadata": {},
   "outputs": [],
   "source": [
    "scores = ranking.get_bm25_scores(query)\n",
    "similar = ranking.most_similar(query, df, func='bm25', data='text')"
   ]
  },
  {
   "cell_type": "code",
   "execution_count": null,
   "metadata": {},
   "outputs": [],
   "source": [
    "l = []\n",
    "for i in range(3):\n",
    "    l.append(inforet.get_closest_sentence(query, list(scores.items())[0][0], similar[i], topk=15))\n",
    "\n",
    "for i, doc in enumerate(l):\n",
    "    print('DOCUMENT {}'.format(i+1))\n",
    "    print('-------------------------')\n",
    "    print('\\n')\n",
    "    for j, sent in enumerate(doc[:3]):\n",
    "        print('Sentence {}:'.format(j+1))\n",
    "        print(sent)\n",
    "        print('\\n')"
   ]
  },
  {
   "cell_type": "code",
   "execution_count": 3,
   "metadata": {},
   "outputs": [
    {
     "data": {
      "text/plain": [
       "2442"
      ]
     },
     "execution_count": 3,
     "metadata": {},
     "output_type": "execute_result"
    }
   ],
   "source": [
    "df[df.after_dec].tag_disease_covid.sum()"
   ]
  },
  {
   "cell_type": "markdown",
   "metadata": {},
   "source": [
    "To further process the data, we will create two new columns:\n",
    "- `after_dec`: whether the document is post 01-12-2019. (`bool`)\n",
    "- `covid19`: whether the document is about COVID19. (`bool`)"
   ]
  },
  {
   "cell_type": "code",
   "execution_count": 3,
   "metadata": {},
   "outputs": [
    {
     "name": "stdout",
     "output_type": "stream",
     "text": [
      "0        1973-08-31\n",
      "1        1985-06-28\n",
      "2        1988-10-14\n",
      "3        1988-09-16\n",
      "4        1992-06-22\n",
      "            ...    \n",
      "29180    2015-06-30\n",
      "29181    2018-07-31\n",
      "29182    2016-10-31\n",
      "29183    2018-01-31\n",
      "29184    2013-12-31\n",
      "Name: date, Length: 29185, dtype: object\n"
     ]
    }
   ],
   "source": [
    "import datetime\n",
    "from datetime import datetime\n",
    "\n",
    "data = '2020-01-01'\n",
    "data = datetime.strptime(data, '%Y-%m-%d').date()\n",
    "\n",
    "covid_19 = ['covid', '2019 ncov', 'sars cov 2', 'sars-cov-2', r'coronavirus 2\\b', \n",
    "                'coronavirus 2019', 'wuhan coronavirus', 'coronavirus disease 19', \n",
    "                'ncov 2019', 'wuhan pneumonia', '2019ncov', 'wuhan virus', \n",
    "                r'2019n cov\\b', r'2019 n cov\\b', 'r\\bn cov 2019', 'wuhan']\n",
    "sars = [r'\\bsars\\b', 'severe acute respiratory syndrome']\n",
    "mers = [r'\\bmers\\b', 'middle east respiratory syndrome']\n",
    "diverse_corona = ['corona', r'\\bcov\\b']\n",
    "print(df['date'])"
   ]
  },
  {
   "cell_type": "code",
   "execution_count": 4,
   "metadata": {},
   "outputs": [
    {
     "name": "stdout",
     "output_type": "stream",
     "text": [
      "False    27094\n",
      "True      2091\n",
      "Name: after_dec, dtype: int64\n",
      "False    29108\n",
      "True        77\n",
      "Name: covid19, dtype: int64\n"
     ]
    }
   ],
   "source": [
    "def check_date(data, date):\n",
    "    if len(date.split('-')) < 3:\n",
    "        date += \"-01-01\"\n",
    "    date = datetime.strptime(date, '%Y-%m-%d').date()\n",
    "    return date > data\n",
    "\n",
    "def check_covid(l, text):\n",
    "    trans = str.maketrans('-',' ')\n",
    "    for word in l:\n",
    "        if word in text.translate(trans):\n",
    "            return True\n",
    "    return False\n",
    "\n",
    "df['after_dec'] = df.apply(lambda row: check_date(data, row['date']), axis = 1)\n",
    "df['covid19'] = df.apply(lambda row: check_covid(covid_19, row['text']), axis = 1)\n",
    "\n",
    "print(df.after_dec.value_counts())\n",
    "print(df.covid19.value_counts())"
   ]
  },
  {
   "cell_type": "code",
   "execution_count": 5,
   "metadata": {},
   "outputs": [],
   "source": [
    "r = []\n",
    "for _, row in df.iterrows():\n",
    "    if row['after_dec'] and not row['covid19']:\n",
    "        r.append(row)"
   ]
  },
  {
   "cell_type": "code",
   "execution_count": 6,
   "metadata": {},
   "outputs": [
    {
     "data": {
      "text/plain": [
       "list"
      ]
     },
     "execution_count": 6,
     "metadata": {},
     "output_type": "execute_result"
    }
   ],
   "source": [
    "type(list(df.columns))"
   ]
  }
 ],
 "metadata": {
  "kernelspec": {
   "display_name": "Python 3",
   "language": "python",
   "name": "python3"
  },
  "language_info": {
   "codemirror_mode": {
    "name": "ipython",
    "version": 3
   },
   "file_extension": ".py",
   "mimetype": "text/x-python",
   "name": "python",
   "nbconvert_exporter": "python",
   "pygments_lexer": "ipython3",
   "version": "3.7.6"
  }
 },
 "nbformat": 4,
 "nbformat_minor": 4
}
