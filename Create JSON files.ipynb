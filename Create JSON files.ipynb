{
 "cells": [
  {
   "cell_type": "code",
   "execution_count": 1,
   "metadata": {},
   "outputs": [],
   "source": [
    "from ranking import Ranking\n",
    "from information_retrieval import Embedding_retrieval\n",
    "import numpy as np\n",
    "import pandas as pd\n",
    "import matplotlib.pyplot as plt"
   ]
  },
  {
   "cell_type": "code",
   "execution_count": 2,
   "metadata": {},
   "outputs": [],
   "source": [
    "from tqdm.notebook import tqdm\n",
    "\n",
    "from extract_features_refactored import FeatureExtractor"
   ]
  },
  {
   "cell_type": "code",
   "execution_count": 3,
   "metadata": {},
   "outputs": [],
   "source": [
    "from get_result import *"
   ]
  },
  {
   "cell_type": "code",
   "execution_count": 4,
   "metadata": {},
   "outputs": [],
   "source": [
    "df = pd.read_csv('Data/processed_data_v5.csv', sep=';')\n",
    "df = df[(df.after_dec == True) & (df.tag_disease_covid == True)]"
   ]
  },
  {
   "cell_type": "code",
   "execution_count": 5,
   "metadata": {},
   "outputs": [],
   "source": [
    "ranking = Ranking('texts')\n",
    "inforet = Embedding_retrieval()"
   ]
  },
  {
   "cell_type": "code",
   "execution_count": 6,
   "metadata": {},
   "outputs": [
    {
     "name": "stdout",
     "output_type": "stream",
     "text": [
      "WARNING:tensorflow:From C:\\Users\\apunt\\tfg\\clone_test\\covid19_challenge\\extract_features_refactored.py:350: The name tf.logging.set_verbosity is deprecated. Please use tf.compat.v1.logging.set_verbosity instead.\n",
      "\n",
      "WARNING:tensorflow:From C:\\Users\\apunt\\tfg\\clone_test\\covid19_challenge\\extract_features_refactored.py:350: The name tf.logging.ERROR is deprecated. Please use tf.compat.v1.logging.ERROR instead.\n",
      "\n"
     ]
    }
   ],
   "source": [
    "fe = FeatureExtractor(bert_config_file =\"./models/biobert_v1.1_pubmed/bert_config.json\",\n",
    "                      init_checkpoint = \"./models/biobert_v1.1_pubmed/model.ckpt-1000000\",\n",
    "                      vocab_file = \"./models/biobert_v1.1_pubmed/vocab.txt\",\n",
    "                      batch_size = 32, # Batch size for predictions\n",
    "                      max_seq_length = 128, # Sequences longer than this will be truncated, and sequences shorter than this will be padded.\n",
    "                      verbose=0)"
   ]
  },
  {
   "cell_type": "code",
   "execution_count": 7,
   "metadata": {},
   "outputs": [],
   "source": [
    "query = 'incubation period in days'"
   ]
  },
  {
   "cell_type": "code",
   "execution_count": 7,
   "metadata": {},
   "outputs": [],
   "source": [
    "path = 'Kaggle COVID-19 medical dictionary.xlsx'\n",
    "med_dict = pd.read_excel(path, sheet_name=2)\n",
    "\n",
    "tasks  = med_dict[\"subtask\"].unique()\n",
    "questions  = med_dict.Question.unique()\n",
    "subquestions = med_dict.Subquestion.unique()"
   ]
  },
  {
   "cell_type": "code",
   "execution_count": 8,
   "metadata": {},
   "outputs": [],
   "source": [
    "res_dict = {}\n",
    "for task in tasks:\n",
    "    res_dict.update( {task : [{x : [y for y in (med_dict[med_dict.Question==x].Subquestion.unique())]} for x in (med_dict[med_dict[\"subtask\"]==task].Question.unique())]}) "
   ]
  },
  {
   "cell_type": "code",
   "execution_count": 9,
   "metadata": {
    "scrolled": true
   },
   "outputs": [
    {
     "name": "stdout",
     "output_type": "stream",
     "text": [
      "Task 0\n",
      "Incubation period\n",
      "Incubation period by age group\n"
     ]
    },
    {
     "name": "stderr",
     "output_type": "stream",
     "text": [
      "C:\\Users\\apunt\\tfg\\clone_test\\covid19_challenge\\extract_features_refactored.py:444: RuntimeWarning: invalid value encountered in less\n",
      "  key = lambda x: x[1], reverse=True)[:min(topk, len(score_arr))]\n"
     ]
    },
    {
     "name": "stdout",
     "output_type": "stream",
     "text": [
      "Incubation period by health status\n",
      "How long are individuals contagious, even after recovery?\n",
      "Prevalence of asymptomatic shedding and transmission\n",
      "Prevalence of asymptomatic shedding children\n",
      "Prevalence of asymptomatic shedding: among hospitalized patients with non-COVID\n",
      "Geographic variation in transmission by temperature and/or humidity\n",
      "Particle charge distribution positive negative\n",
      "Adhesion to hydrophilic phobic surfaces\n",
      "Susceptibility to environmental cleaning agents\n",
      "Persistence and stability in nasal discharge\n",
      "Persistence and stability in sputum\n",
      "Persistence and stability in urine\n",
      "Persistence and stability in fecal matter\n",
      "Persistence and stability in blood\n",
      "Persistence and stability on aerosols\n",
      "Persistence and stability on droplets\n",
      "DOC TOO SHORT\n",
      "DOC TOO SHORT\n",
      "DOC TOO SHORT\n",
      "DOC TOO SHORT\n",
      "Persistence and stability on copper surfaces\n",
      "Persistence and stability on stainless steel surfaces\n",
      "Persistence and stability on plastic\n",
      "Persistence and stability on reprocessed single-use ventilators\n",
      "DOC TOO SHORT\n",
      "DOC TOO SHORT\n",
      "DOC TOO SHORT\n",
      "DOC TOO SHORT\n",
      "Virus behavior in host over time: stages of infection\n",
      "Virus behavior in host over time: interaction with immune system\n",
      "Virus behavior in host over time: timing of peak shedding\n",
      "Diagnostic guidelines for COVID-19\n",
      "Test specifications for various PCR products for testing human subjects for COVID-19\n",
      "Diagnostic guidelines for SARS-CoV-2\n",
      "What animal models are best analogies for humans with COVID-19 transmission?\n",
      "What statistical models are useful for predicting outcomes of COVID-19 infection?\n",
      "What statistical models are useful for predicting COVID-19 transmission in humans?\n",
      "What is the typical immune response in a healthy adult?\n",
      "What are the risk factors for an impaired immune response?\n",
      "How effective have various behavior change interventions to control the movement of the general population been at slowing the spread of COVID-19 in the community?\n",
      "How effective have various behavior change interventions to control the movement of patients in healthcare settings been at slowing the spread of COVID-19 within healthcare settings?\n",
      "How effective are different types of face masks for preventing COVID-19 transmission? What is the difference in effectiveness between actual practice and when used as directed?\n",
      "What proportion of air vents and bathroom fixtures (toilet bowl, sink, doorknob) test positive for COVID-19 in rooms used by COVID-19 positive persons?\n"
     ]
    }
   ],
   "source": [
    "for i in range(1):\n",
    "    print('Task {}'.format(i))\n",
    "    n_task = i\n",
    "    for n_question, question_dict in enumerate(res_dict[tasks[n_task]]):\n",
    "        for n_subquestion, subquestion in enumerate(list(question_dict.values())[0]):\n",
    "            print(subquestion)\n",
    "            get_answers_files(df, subquestion, ranking, ('BERT', fe), 3, 3, par_k=4, \n",
    "                                             inforet_sentence = inforet, only_top_doc = False, \n",
    "                                             task = n_task,\n",
    "                                             question = n_question,\n",
    "                                             subquestion = n_subquestion)\n"
   ]
  },
  {
   "cell_type": "code",
   "execution_count": null,
   "metadata": {},
   "outputs": [],
   "source": [
    "example_dict = get_answers_files(df, query, ranking, ('BERT', fe), 5, 3, par_k=3, inforet_sentence = inforet, only_top_doc = True, name = 'task_0_question_1_subquestion_2')"
   ]
  },
  {
   "cell_type": "code",
   "execution_count": 10,
   "metadata": {
    "scrolled": true
   },
   "outputs": [
    {
     "data": {
      "text/plain": [
       "Index(['paper_id', 'title', 'abstract', 'text', 'date', 'authors', 'url',\n",
       "       'after_dec', 'tag_disease_covid', 'tag_disease_sars',\n",
       "       'tag_disease_mers', 'tag_disease_corona',\n",
       "       'tag_design_generic_case_control', 'tag_design_retrospective_cohort',\n",
       "       'tag_design_cross_sectional_case_control',\n",
       "       'tag_design_matched_case_control', 'tag_design_prevalence_survey',\n",
       "       'tag_design_time_series_analysis', 'tag_design_systematic_review',\n",
       "       'tag_design_randomized_control', 'tag_design_pseudo_randomized_control',\n",
       "       'tag_design_case_study', 'tag_design_simulation'],\n",
       "      dtype='object')"
      ]
     },
     "execution_count": 10,
     "metadata": {},
     "output_type": "execute_result"
    }
   ],
   "source": [
    "df.columns"
   ]
  },
  {
   "cell_type": "code",
   "execution_count": null,
   "metadata": {},
   "outputs": [],
   "source": []
  }
 ],
 "metadata": {
  "kernelspec": {
   "display_name": "Python 3",
   "language": "python",
   "name": "python3"
  },
  "language_info": {
   "codemirror_mode": {
    "name": "ipython",
    "version": 3
   },
   "file_extension": ".py",
   "mimetype": "text/x-python",
   "name": "python",
   "nbconvert_exporter": "python",
   "pygments_lexer": "ipython3",
   "version": "3.7.6"
  }
 },
 "nbformat": 4,
 "nbformat_minor": 4
}
