{
 "cells": [
  {
   "cell_type": "markdown",
   "metadata": {},
   "source": [
    "<h1> Tag Analysis </h1>"
   ]
  },
  {
   "cell_type": "markdown",
   "metadata": {},
   "source": [
    "<hr>"
   ]
  },
  {
   "cell_type": "markdown",
   "metadata": {},
   "source": [
    "Probably by looking at the abstract will be easier to tag a document."
   ]
  },
  {
   "cell_type": "code",
   "execution_count": 50,
   "metadata": {},
   "outputs": [],
   "source": [
    "import pickle\n",
    "import pandas as pd\n",
    "import datetime\n",
    "from datetime import datetime\n",
    "\n",
    "df = pd.read_csv('Data/processed_data_v3.csv', sep=';')\n",
    "df['after_dec'] = df.apply(lambda row: check_date(row['date']), axis = 1)\n",
    "\n",
    "def check_date(date):\n",
    "    data = '2019-12-01'\n",
    "    data = datetime.strptime(data, '%Y-%m-%d').date()\n",
    "    if len(date.split('-')) < 3:\n",
    "        date += \"-01-01\"\n",
    "    date = datetime.strptime(date, '%Y-%m-%d').date()\n",
    "    return date > data"
   ]
  },
  {
   "cell_type": "code",
   "execution_count": 2,
   "metadata": {},
   "outputs": [],
   "source": [
    "# Load abstracts dictionary\n",
    "with open('Data/ranking_dict/document_frequencies_abstract_proc_v3.p', 'rb') as fp:\n",
    "    document_frequencies = pickle.load(fp)\n",
    "with open('Data/ranking_dict/term_frequencies_abstract_proc_v3.p', 'rb') as fp:\n",
    "    term_frequencies = pickle.load(fp)\n",
    "with open('Data/ranking_dict/document_length_abstract_proc_v3.p', 'rb') as fp:\n",
    "    document_length = pickle.load(fp)"
   ]
  },
  {
   "cell_type": "code",
   "execution_count": 3,
   "metadata": {},
   "outputs": [],
   "source": [
    "from nltk.corpus import stopwords\n",
    "stopwords = set(stopwords.words('english'))\n",
    "other = ['et', 'al', 'also', 'fig', 'cell', 'virus', 'diseas', 'result', 'infect', 'studi', 'use']\n",
    "remove = set()\n",
    "for word in document_frequencies:\n",
    "    if word in stopwords or word.isdigit() or word in other:\n",
    "        remove.add(word)\n",
    "for word in remove:\n",
    "    del document_frequencies[word]"
   ]
  },
  {
   "cell_type": "code",
   "execution_count": 4,
   "metadata": {},
   "outputs": [],
   "source": [
    "list_term = sorted(document_frequencies.items(), key=lambda x:x[1], reverse=True)"
   ]
  },
  {
   "cell_type": "code",
   "execution_count": 5,
   "metadata": {},
   "outputs": [
    {
     "data": {
      "text/plain": [
       "[('abstract', 8699),\n",
       " ('show', 8054),\n",
       " ('viral', 8012),\n",
       " ('develop', 7801),\n",
       " ('find', 7647),\n",
       " ('effect', 7342),\n",
       " ('human', 7314),\n",
       " ('high', 7264),\n",
       " ('sever', 7244),\n",
       " ('includ', 7217)]"
      ]
     },
     "execution_count": 5,
     "metadata": {},
     "output_type": "execute_result"
    }
   ],
   "source": [
    "list_term[:10]"
   ]
  },
  {
   "cell_type": "code",
   "execution_count": 6,
   "metadata": {},
   "outputs": [
    {
     "name": "stdout",
     "output_type": "stream",
     "text": [
      "2019ncovr\n",
      "covid19\n",
      "ncov2019\n",
      "sarscov2\n",
      "diagnosis_covid19\n",
      "cov19\n",
      "ofcovid19\n",
      "covod19\n",
      "2019ncov\n",
      "25\n"
     ]
    }
   ],
   "source": [
    "n_doc = 0\n",
    "for key in document_frequencies:\n",
    "    if 'cov' in key and '19' in key:\n",
    "        print(key)\n",
    "        n_doc += document_frequencies[key]\n",
    "    if 'sars' in key and 'cov' in key and '2' in key:\n",
    "        print(key)\n",
    "        n_doc += document_frequencies[key]\n",
    "        \n",
    "print(n_doc)"
   ]
  },
  {
   "cell_type": "code",
   "execution_count": 73,
   "metadata": {},
   "outputs": [],
   "source": [
    "found = {'covid': (0,0), 'cov,19': (0,0), 'sar,cov,2': (0,0), 'wuhan': (0,0), 'cov,20': (0,0), 'cov,2': (0,0), 'cov,2,2': (0,0), 'respiratori': (0,0)}\n",
    "for _, row in df.iterrows():\n",
    "    abstract = row['abstract']\n",
    "    date = row['date']\n",
    "    if type(abstract) != str:\n",
    "        continue\n",
    "    elif 'covid' in abstract:\n",
    "        a,b = found['covid']\n",
    "        a += 1\n",
    "        if check_date(date):\n",
    "            b += 1\n",
    "        found['covid'] = (a,b)\n",
    "    elif 'cov' in abstract and '19 ' in abstract:\n",
    "        a,b = found['cov,19']\n",
    "        a += 1\n",
    "        if check_date(date):\n",
    "            b += 1\n",
    "        found['cov,19'] = (a,b)\n",
    "    elif 'cor' in abstract and '19 ' in abstract:\n",
    "        a,b = found['cov,19']\n",
    "        a += 1\n",
    "        if check_date(date):\n",
    "            b += 1\n",
    "        found['cov,19'] = (a,b)\n",
    "    elif 'sar' in abstract and 'cov' in abstract and '2 ' in abstract:\n",
    "        a,b = found['sar,cov,2']\n",
    "        a += 1\n",
    "        if check_date(date):\n",
    "            b += 1\n",
    "        found['sar,cov,2'] = (a,b)\n",
    "    elif 'wuhan' in abstract:\n",
    "        a,b = found['wuhan']\n",
    "        a += 1\n",
    "        if check_date(date):\n",
    "            b += 1\n",
    "        found['wuhan'] = (a,b)\n",
    "    elif 'cov' in abstract and '20 ' in abstract:\n",
    "        a,b = found['cov,20']\n",
    "        a += 1\n",
    "        if check_date(date):\n",
    "            b += 1\n",
    "            #print(abstract + '\\n')\n",
    "        found['cov,20'] = (a,b)\n",
    "    elif 'cov' in abstract and '2 ' in abstract:        \n",
    "        a,b = found['cov,2,2']\n",
    "        a += 1\n",
    "        if check_date(date):\n",
    "            b += 1\n",
    "        found['cov,2'] = (a,b)\n",
    "    elif 'respirator' in abstract:        \n",
    "        a,b = found['respiratori']\n",
    "        a += 1\n",
    "        if check_date(date):\n",
    "            b += 1\n",
    "        found['respiratori'] = (a,b)\n",
    "\n",
    "total = 0\n",
    "total_true = 0\n",
    "for key in found:\n",
    "    a,b = found[key]\n",
    "    total += a\n",
    "    total_true += b\n",
    "    "
   ]
  },
  {
   "cell_type": "code",
   "execution_count": 74,
   "metadata": {},
   "outputs": [
    {
     "name": "stdout",
     "output_type": "stream",
     "text": [
      "{'covid': (7, 7), 'cov,19': (986, 697), 'sar,cov,2': (26, 1), 'wuhan': (1, 1), 'cov,20': (113, 10), 'cov,2': (1, 0), 'cov,2,2': (0, 0), 'respiratori': (5635, 311)}\n",
      "6769\n",
      "1027\n"
     ]
    }
   ],
   "source": [
    "print(found)\n",
    "print(total)\n",
    "print(total_true)"
   ]
  },
  {
   "cell_type": "code",
   "execution_count": 60,
   "metadata": {},
   "outputs": [
    {
     "name": "stdout",
     "output_type": "stream",
     "text": [
      "respiratori\n"
     ]
    }
   ],
   "source": [
    "from nltk.stem import WordNetLemmatizer, SnowballStemmer\n",
    "stemmer = SnowballStemmer(\"english\")\n",
    "\n",
    "word = 'respiratory'\n",
    "word = stemmer.stem(WordNetLemmatizer().lemmatize(word.lower(), pos='v'))\n",
    "\n",
    "print(word)"
   ]
  },
  {
   "cell_type": "code",
   "execution_count": 53,
   "metadata": {},
   "outputs": [
    {
     "data": {
      "text/plain": [
       "197"
      ]
     },
     "execution_count": 53,
     "metadata": {},
     "output_type": "execute_result"
    }
   ],
   "source": [
    "df[df.after_dec == True].abstract.isna().sum()"
   ]
  },
  {
   "cell_type": "code",
   "execution_count": 54,
   "metadata": {},
   "outputs": [
    {
     "data": {
      "text/plain": [
       "2507"
      ]
     },
     "execution_count": 54,
     "metadata": {},
     "output_type": "execute_result"
    }
   ],
   "source": [
    "len(df[df.after_dec == True])"
   ]
  },
  {
   "cell_type": "code",
   "execution_count": null,
   "metadata": {},
   "outputs": [],
   "source": []
  }
 ],
 "metadata": {
  "kernelspec": {
   "display_name": "Python 3",
   "language": "python",
   "name": "python3"
  }
 },
 "nbformat": 4,
 "nbformat_minor": 4
}
